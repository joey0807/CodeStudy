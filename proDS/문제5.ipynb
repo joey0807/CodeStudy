{
 "cells": [
  {
   "cell_type": "markdown",
   "metadata": {},
   "source": [
    "# 문제 05 유형(DataSet_05.csv 이용)\n",
    "\n",
    " 구분자 : comma(“,”), 8,068 Rows, 12 Columns, UTF-8 인코딩\n",
    "\n",
    " A자동차 회사는 신규 진입하는 시장에 기존 모델을 판매하기 위한 마케팅 전략을 세우려고 한다. 기존 시장과 고객 특성이 유사하다는 전제 하에 기존 고객을 세분화하여 각 그룹의 특징을 파악하고, 이를 이용하여 신규 진입 시장의 마케팅 계획을 수립하고자 한다. 다음은 기존 시장 고객에 대한 데이터이다.\n",
    "\n",
    " 컬 럼 / 정 의 / Type\n",
    " ID / 고유 식별자 / Double\n",
    " Age / 나이 / Double\n",
    " Age_gr / 나이 그룹 (10/20/30/40/50/60/70) / Double\n",
    " Gender / 성별 (여성 : 0 / 남성 : 1) / Double\n",
    " Work_Experience / 취업 연수 (0 ~ 14) / Double\n",
    " Family_Size / 가족 규모 (1 ~ 9) / Double\n",
    " Ever_Married / 결혼 여부 (Unknown : 0 / No : 1 / Yes : 2) / Double\n",
    " Graduated / 재학 중인지 여부 / Double\n",
    " Profession / 직업 (Unknown : 0 / Artist ~ Marketing 등 9개) / Double\n",
    " Spending_Score / 소비 점수 (Average : 0 / High : 1 / Low : 2) / Double\n",
    " Var_1 / 내용이 알려지지 않은 고객 분류 코드 (0 ~ 7) / Double\n",
    " Segmentation / 고객 세분화 결과 (A ~ D) / String"
   ]
  },
  {
   "cell_type": "code",
   "execution_count": 1,
   "metadata": {},
   "outputs": [],
   "source": [
    "import pandas as pd\n",
    "import numpy as np\n",
    "\n",
    "data05 = pd.read_csv('C:/Users/joey0/CodeStudy/proDS/Dataset/Dataset_05.csv')"
   ]
  },
  {
   "cell_type": "code",
   "execution_count": 2,
   "metadata": {},
   "outputs": [
    {
     "name": "stdout",
     "output_type": "stream",
     "text": [
      "<class 'pandas.core.frame.DataFrame'>\n",
      "RangeIndex: 8068 entries, 0 to 8067\n",
      "Data columns (total 12 columns):\n",
      " #   Column           Non-Null Count  Dtype  \n",
      "---  ------           --------------  -----  \n",
      " 0   ID               8068 non-null   int64  \n",
      " 1   Age              8068 non-null   int64  \n",
      " 2   Age_gr           8068 non-null   int64  \n",
      " 3   Gender           8068 non-null   int64  \n",
      " 4   Work_Experience  7239 non-null   float64\n",
      " 5   Family_Size      7733 non-null   float64\n",
      " 6   Ever_Married     8068 non-null   int64  \n",
      " 7   Graduated        8068 non-null   int64  \n",
      " 8   Profession       8068 non-null   int64  \n",
      " 9   Spending_Score   8068 non-null   int64  \n",
      " 10  Var_1            8068 non-null   int64  \n",
      " 11  Segmentation     8066 non-null   object \n",
      "dtypes: float64(2), int64(9), object(1)\n",
      "memory usage: 756.5+ KB\n"
     ]
    }
   ],
   "source": [
    "data05.info()"
   ]
  },
  {
   "cell_type": "code",
   "execution_count": 3,
   "metadata": {},
   "outputs": [
    {
     "data": {
      "text/plain": [
       "Index(['ID', 'Age', 'Age_gr', 'Gender', 'Work_Experience', 'Family_Size',\n",
       "       'Ever_Married', 'Graduated', 'Profession', 'Spending_Score', 'Var_1',\n",
       "       'Segmentation'],\n",
       "      dtype='object')"
      ]
     },
     "execution_count": 3,
     "metadata": {},
     "output_type": "execute_result"
    }
   ],
   "source": [
    "data05.columns"
   ]
  },
  {
   "cell_type": "markdown",
   "metadata": {},
   "source": [
    "## 1.위의 표에 표시된 데이터 타입에 맞도록 전처리를 수행하였을 때, 데이터 파일 내에 존재하는 결측값은 모두 몇 개인가? 숫자형 데이터와 문자열 데이터의 결측값을 모두 더하여 답하시오.\n",
    "(String 타입 변수의 경우 White Space(Blank)를 결측으로 처리한다)"
   ]
  },
  {
   "cell_type": "code",
   "execution_count": 5,
   "metadata": {},
   "outputs": [
    {
     "data": {
      "text/plain": [
       "1166"
      ]
     },
     "execution_count": 5,
     "metadata": {},
     "output_type": "execute_result"
    }
   ],
   "source": [
    "data05.isna().sum().sum()\n",
    "\n",
    "#정답 : 1166"
   ]
  },
  {
   "cell_type": "markdown",
   "metadata": {},
   "source": [
    "# 2.이어지는 분석을 위해 결측값을 모두 삭제한다. 그리고, 성별이 세분화(Segmentation)에 영향을 미치는지 독립성 검정을 수행한다. 수행 결과, p-value를 반올림하여 소수점 넷째 자리까지 쓰고, 귀무가설을 기각하면 Y로, 기각할 수 없으면 N으로 기술하시오."
   ]
  },
  {
   "cell_type": "code",
   "execution_count": 6,
   "metadata": {},
   "outputs": [
    {
     "data": {
      "text/plain": [
       "True"
      ]
     },
     "execution_count": 6,
     "metadata": {},
     "output_type": "execute_result"
    }
   ],
   "source": [
    "q2 = data05.dropna()\n",
    "\n",
    "from scipy.stats import chi2_contingency\n",
    "\n",
    "tab = pd.crosstab(index=q2.Gender, columns=q2.Segmentation)\n",
    "\n",
    "q2_out = chi2_contingency(tab)\n",
    "\n",
    "q2_out[1] #0.0031\n",
    "q2_out[1] < 0.05 #Y\n",
    "\n",
    "#정답 : 0.0031, Y"
   ]
  },
  {
   "cell_type": "markdown",
   "metadata": {},
   "source": [
    "## 3.Segmentation 값이 A 또는 D인 데이터만 사용하여 의사결정 나무 기법으로 분류 정확도를 측정해 본다. \n",
    " - 결측치가 포함된 행은 제거한 후 진행하시오.\n",
    " - Train대 Test 7대3으로 데이터를 분리한다. (Seed = 123)\n",
    " - Train 데이터를 사용하여 의사결정나무 학습을 수행하고, Test 데이터로 평가를 수행한다.\n",
    " - 의사결정나무 학습 시, 다음과 같이 설정하시오:\n",
    " • Feature: Age_gr, Gender, Work_Experience, Family_Size,\n",
    "            Ever_Married, Graduated, Spending_Score\n",
    " • Label : Segmentation\n",
    " • Parameter : Gini / Max Depth = 7 / Seed = 123\n",
    " 이 때 전체 정확도(Accuracy)를 소수점 셋째 자리 이하는 버리고 소수점 둘째자리까지 기술하시오."
   ]
  },
  {
   "cell_type": "code",
   "execution_count": 9,
   "metadata": {},
   "outputs": [
    {
     "data": {
      "text/plain": [
       "0.6807116104868914"
      ]
     },
     "execution_count": 9,
     "metadata": {},
     "output_type": "execute_result"
    }
   ],
   "source": [
    "q3 = q2[q2.Segmentation.isin(['A','D'])]\n",
    "\n",
    "from sklearn.model_selection import train_test_split\n",
    "from sklearn.tree import DecisionTreeClassifier\n",
    "\n",
    "train, test = train_test_split(q3, test_size=0.3, random_state=123)\n",
    "\n",
    "var_list = [ 'Age_gr', 'Gender', 'Work_Experience', 'Family_Size',\n",
    "       'Ever_Married', 'Graduated',  'Spending_Score']\n",
    "\n",
    "dt = DecisionTreeClassifier(max_depth=7, random_state=123)\n",
    "dt.fit(train[var_list], train['Segmentation'])\n",
    "\n",
    "#from sklearn.metrics import accuracy_score\n",
    "\n",
    "acc = dt.score(test[var_list], test['Segmentation'])\n",
    "acc\n",
    "\n",
    "#정답 : 0.68"
   ]
  }
 ],
 "metadata": {
  "interpreter": {
   "hash": "ce8ad003cbacc730e5ae8e25e04f0b81855cad91beef114a29a8b1ddf1550b22"
  },
  "kernelspec": {
   "display_name": "Python 3.9.7 ('base')",
   "language": "python",
   "name": "python3"
  },
  "language_info": {
   "codemirror_mode": {
    "name": "ipython",
    "version": 3
   },
   "file_extension": ".py",
   "mimetype": "text/x-python",
   "name": "python",
   "nbconvert_exporter": "python",
   "pygments_lexer": "ipython3",
   "version": "3.9.7"
  },
  "orig_nbformat": 4
 },
 "nbformat": 4,
 "nbformat_minor": 2
}
