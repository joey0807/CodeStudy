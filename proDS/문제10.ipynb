{
 "cells": [
  {
   "cell_type": "markdown",
   "metadata": {},
   "source": [
    "# 문제 10 유형(DataSet_10.csv 이용)\n",
    "\n",
    " 구분자 : comma(“,”), 1538 Rows, 6 Columns, UTF-8 인코딩\n",
    "\n",
    " 중고 자동차 가격에 대한 분석을 위하여 아래와 같은 데이터를 확보하였다.\n",
    " \n",
    " 컬 럼 / 정 의 / Type\n",
    " model / 모델명 / String\n",
    " engine_power / 엔진 파워 / Double\n",
    " age_in_days / 운행 일수 / Double\n",
    " km / 운행 거리 / Double\n",
    " previous_owners / 이전 소유자 수 / Double\n",
    " price / 중고차 가격 / Double"
   ]
  },
  {
   "cell_type": "code",
   "execution_count": 1,
   "metadata": {},
   "outputs": [],
   "source": [
    "import pandas as pd\n",
    "import numpy as np\n",
    "\n",
    "data10=pd.read_csv('C:/Users/joey0/CodeStudy/proDS/Dataset/Dataset_10.csv')"
   ]
  },
  {
   "cell_type": "markdown",
   "metadata": {},
   "source": [
    "## 1.이전 소유자 수가 한 명이고 엔진 파워가 51인 차에 대해 모델별 하루 평균 운행\n",
    " 거리를 산출하였을 때 가장 낮은 값을 가진 모델이 가장 큰 값을 가진 모델에 대한 비율은 얼마인가? 소수점 셋째 자리에서 반올림하여 소수점 둘째 자리까지 기술하시오.\n",
    " (모델별 평균 → 일평균 → 최대최소 비율 계산)"
   ]
  },
  {
   "cell_type": "code",
   "execution_count": 2,
   "metadata": {},
   "outputs": [
    {
     "data": {
      "text/plain": [
       "0.9688580804724013"
      ]
     },
     "execution_count": 2,
     "metadata": {},
     "output_type": "execute_result"
    }
   ],
   "source": [
    "q1=data10[(data10.previous_owners == 1) & (data10.engine_power==51)]\n",
    "\n",
    "# 모델별 평균\n",
    "q1_tab=q1.groupby('model')[['age_in_days', 'km']].mean()\n",
    "\n",
    "# 일별 평균\n",
    "q1_tab['km_per_day']=q1_tab['km']/q1_tab['age_in_days']\n",
    "\n",
    "q1_tab['km_per_day'].min()/q1_tab['km_per_day'].max()\n",
    "\n",
    "#정답 : 0.97"
   ]
  },
  {
   "cell_type": "markdown",
   "metadata": {},
   "source": [
    "## 2.운행 일수에 대한 운행 거리를 산출하고, 위 1번 문제에서 가장 큰 값을 가지고 있던모델과 가장 낮은 값을 가지고 있던 모델 간의 운행 일수 대비 운행거리 평균이 다른지 적절한 통계 검정을 수행하고 p-value를 소수점 세자리 이하는 버리고 소수점 두자리까지 기술하고 기각 여부를 Y / N로 답하시오. \n",
    "(등분산을 가정하고 equal_var = True / var.equal = T로 분석을 실행하시오.)"
   ]
  },
  {
   "cell_type": "code",
   "execution_count": 3,
   "metadata": {},
   "outputs": [],
   "source": [
    "max_m=q1_tab['km_per_day'].idxmax()\n",
    "min_m=q1_tab['km_per_day'].idxmin()\n",
    "\n",
    "q2=data10.copy()"
   ]
  },
  {
   "cell_type": "code",
   "execution_count": 5,
   "metadata": {},
   "outputs": [
    {
     "data": {
      "text/plain": [
       "0.13248244438755083"
      ]
     },
     "execution_count": 5,
     "metadata": {},
     "output_type": "execute_result"
    }
   ],
   "source": [
    "q2['km_per_day']=q2['km']/q2['age_in_days']\n",
    "\n",
    "# 데이터 필터링 후 ttest\n",
    "\n",
    "from scipy.stats import ttest_ind\n",
    "from scipy.stats import bartlett # 등분산 검정\n",
    "\n",
    "q2_out=ttest_ind(q2[q2.model==max_m]['km_per_day'],\n",
    "          q2[q2.model==min_m]['km_per_day'],\n",
    "          equal_var=True)\n",
    "\n",
    "q2_out.pvalue\n",
    "\n",
    "#정답 : 0.13, N"
   ]
  },
  {
   "cell_type": "code",
   "execution_count": 6,
   "metadata": {},
   "outputs": [
    {
     "data": {
      "text/plain": [
       "BartlettResult(statistic=2.8320958263094305, pvalue=0.09239770665253491)"
      ]
     },
     "execution_count": 6,
     "metadata": {},
     "output_type": "execute_result"
    }
   ],
   "source": [
    "# [참고] 등분산 검정\n",
    "bartlett(q2[q2.model==max_m]['km_per_day'],\n",
    "          q2[q2.model==min_m]['km_per_day'])\n",
    "# H0: 등분산이다\n",
    "# H1: 등분산이 아니다(이분산이다)"
   ]
  },
  {
   "cell_type": "markdown",
   "metadata": {},
   "source": [
    "## 3.독립변수로 engine_power, age_in_days, km를 사용하고 종속변수로 price를 사용하여 모델별 선형회귀분석을 수행하고, 산출된 모형을 사용하여 다음과 같은 조건의 중고차에 대한 가격을 예측하고 예측된 가격을 정수부만 기술하시오.\n",
    " - model : pop / engine_power : 51 / age_in_days : 400 / km : 9500 / previous_owners : 2"
   ]
  },
  {
   "cell_type": "code",
   "execution_count": 7,
   "metadata": {},
   "outputs": [
    {
     "data": {
      "text/plain": [
       "array([10367.53433763])"
      ]
     },
     "execution_count": 7,
     "metadata": {},
     "output_type": "execute_result"
    }
   ],
   "source": [
    "q3=data10[(data10.previous_owners == 2) & (data10.model=='pop')]\n",
    "\n",
    "from sklearn.linear_model import LinearRegression\n",
    "\n",
    "var_list=['engine_power', 'age_in_days', 'km']\n",
    "\n",
    "lm=LinearRegression().fit(q3[var_list], q3['price'])\n",
    "\n",
    "lm.predict([[51, 400, 9500]]) # array, dataframe\n",
    "\n",
    "lm.predict(pd.DataFrame({'engine_power': [51],\n",
    "                         'age_in_days': [400],\n",
    "                         'km': [9500]}))\n",
    "\n",
    "#정답 : [10367.53433763]               "
   ]
  },
  {
   "cell_type": "code",
   "execution_count": 8,
   "metadata": {},
   "outputs": [
    {
     "name": "stdout",
     "output_type": "stream",
     "text": [
      "[5949.28499314]\n",
      "[10044.54533081]\n",
      "[4841.62429514]\n",
      "[9880.529997]\n",
      "[5164.95532988]\n",
      "[7540.12781989]\n",
      "[10349.18671531]\n",
      "[9537.46043919]\n",
      "[5477.50513159]\n",
      "[5951.21610646]\n",
      "[6416.28762149]\n",
      "[5958.88141945]\n",
      "[5564.6976755]\n",
      "[5879.72600558]\n",
      "[10353.30968846]\n",
      "[6044.58457283]\n",
      "[5548.68638981]\n",
      "[5524.14494944]\n",
      "[10305.9886917]\n",
      "[10348.98731571]\n",
      "[10607.87527216]\n",
      "[10463.41504676]\n",
      "[9674.41775969]\n",
      "[9600.18782517]\n",
      "[9907.51099762]\n",
      "[10028.53261519]\n",
      "[10539.37212268]\n",
      "[9823.47337382]\n",
      "[6738.17376231]\n",
      "[7928.30776697]\n",
      "[10507.48936942]\n",
      "[10504.07034135]\n",
      "[9797.81254163]\n",
      "[5967.2139046]\n",
      "[10499.18165251]\n",
      "[10273.815357]\n",
      "[10560.17561918]\n",
      "[9887.15558973]\n",
      "[9324.11697795]\n",
      "[10040.63969353]\n",
      "[10165.00882367]\n",
      "[5559.43020684]\n",
      "[8171.80694362]\n",
      "[7911.23866224]\n",
      "[9792.23305981]\n",
      "[8385.20334122]\n",
      "[10391.4845013]\n",
      "[5895.62026238]\n",
      "[5135.52034033]\n",
      "[10377.38116717]\n",
      "[9536.15662904]\n",
      "[6487.65006787]\n",
      "[9362.24743778]\n",
      "[7291.23928429]\n",
      "[5326.49654859]\n",
      "[7520.56005671]\n",
      "[8760.84240984]\n",
      "[5373.14010431]\n",
      "[8940.749319]\n",
      "[6294.31107484]\n",
      "[6663.40886485]\n",
      "[9691.91760357]\n",
      "[10095.2603402]\n",
      "[9141.2227048]\n",
      "[9063.51779723]\n",
      "[10117.07859447]\n",
      "[8106.10703351]\n",
      "[6929.46130277]\n",
      "[10232.55208337]\n",
      "[6782.16215953]\n",
      "[8877.34892823]\n",
      "[8012.34331631]\n",
      "[9425.32793131]\n",
      "[5230.455397]\n",
      "[3996.78344141]\n",
      "[6787.28801381]\n",
      "[5424.07653257]\n",
      "[4581.6560906]\n",
      "[7291.21579779]\n",
      "[5443.68424929]\n",
      "[9826.28454644]\n",
      "[9063.51779723]\n",
      "[10242.09891114]\n",
      "[6929.46130277]\n",
      "[4669.42648748]\n",
      "[4749.93287977]\n",
      "[6479.11991318]\n",
      "[6515.76520124]\n",
      "[8222.29310017]\n",
      "[10491.11810524]\n",
      "[6015.43005466]\n",
      "[7273.82747896]\n",
      "[10179.41416127]\n",
      "[5237.71842256]\n",
      "[10358.17180833]\n",
      "[5069.02378392]\n",
      "[9296.55588465]\n",
      "[10012.98122855]\n",
      "[10458.14086225]\n",
      "[8650.81548742]\n",
      "[9662.72757576]\n",
      "[5221.91184486]\n",
      "[10126.27623917]\n",
      "[4586.74243178]\n",
      "[6161.32028919]\n",
      "[9838.20564205]\n",
      "[9857.56117431]\n",
      "[4614.98575979]\n",
      "[5339.69999119]\n",
      "[8443.73700501]\n",
      "[6963.76338635]\n",
      "[5386.93174566]\n",
      "[5359.58857979]\n",
      "[9267.88949387]\n",
      "[9882.53103698]\n",
      "[9763.45391428]\n",
      "[4084.71997165]\n"
     ]
    }
   ],
   "source": [
    "# [참고]\n",
    "q3=data10[data10.previous_owners == 2]\n",
    "\n",
    "model_list=q3.model.unique()\n",
    "\n",
    "for i in model_list:\n",
    "    temp=q3[q3.model == i]\n",
    "    globals()['lm_'+i]=LinearRegression().fit(temp[var_list], \n",
    "                                              temp['price'])\n",
    "for i in q3.index:\n",
    "    print(eval('lm_'+ q3.loc[i, 'model']).predict(q3.loc[i,var_list].values.reshape(1,-1)))"
   ]
  }
 ],
 "metadata": {
  "interpreter": {
   "hash": "ce8ad003cbacc730e5ae8e25e04f0b81855cad91beef114a29a8b1ddf1550b22"
  },
  "kernelspec": {
   "display_name": "Python 3.9.7 ('base')",
   "language": "python",
   "name": "python3"
  },
  "language_info": {
   "codemirror_mode": {
    "name": "ipython",
    "version": 3
   },
   "file_extension": ".py",
   "mimetype": "text/x-python",
   "name": "python",
   "nbconvert_exporter": "python",
   "pygments_lexer": "ipython3",
   "version": "3.9.7"
  },
  "orig_nbformat": 4
 },
 "nbformat": 4,
 "nbformat_minor": 2
}
