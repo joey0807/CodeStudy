{
 "cells": [
  {
   "cell_type": "markdown",
   "metadata": {},
   "source": [
    "# 문제 04 유형(DataSet_04.csv 이용)\n",
    "\n",
    "구분자 : comma(“,”), 6,718 Rows, 4 Columns, UTF-8 인코딩\n",
    "\n",
    " 한국인의 식생활 변화가 건강에 미치는 영향을 분석하기에 앞서 육류\n",
    " 소비량에 대한 분석을 하려고 한다. 확보한 데이터는 세계 각국의 1인당\n",
    " 육류 소비량 데이터로 아래와 같은 내용을 담고 있다.\n",
    "\n",
    " 컬 럼 / 정 의 / Type\n",
    " LOCATION / 국가명 / String\n",
    " SUBJECT / 육류 종류 (BEEF / PIG / POULTRY / SHEEP) / String\n",
    " TIME / 연도 (1990 ~ 2026) / Integer\n",
    " Value / 1인당 육류 소비량 (KG) / Double"
   ]
  },
  {
   "cell_type": "code",
   "execution_count": 1,
   "metadata": {},
   "outputs": [],
   "source": [
    "import pandas as pd\n",
    "import numpy as np\n",
    "\n",
    "data04 = pd.read_csv('C:/Users/joey0/CodeStudy/proDS/Dataset/Dataset_04.csv')"
   ]
  },
  {
   "cell_type": "markdown",
   "metadata": {},
   "source": [
    "## 1.한국인의 1인당 육류 소비량이 해가 갈수록 증가하는 것으로 보여 상관분석을 통하여 확인하려고 한다. \n",
    " - 데이터 파일로부터 한국 데이터만 추출한다. 한국은 KOR로 표기되어 있다.\n",
    " - 년도별 육류 소비량 합계를 구하여 TIME과 Value간의 상관분석을 수행하고 상관계수를 소수점 셋째 자리에서 반올림하여 소수점 둘째 자리까지만 기술하시오. "
   ]
  },
  {
   "cell_type": "code",
   "execution_count": 2,
   "metadata": {},
   "outputs": [
    {
     "data": {
      "text/plain": [
       "Index(['LOCATION', 'SUBJECT', 'TIME', 'Value'], dtype='object')"
      ]
     },
     "execution_count": 2,
     "metadata": {},
     "output_type": "execute_result"
    }
   ],
   "source": [
    "data04.columns"
   ]
  },
  {
   "cell_type": "code",
   "execution_count": 4,
   "metadata": {},
   "outputs": [],
   "source": [
    "q1 = data04[data04.LOCATION == 'KOR']\n",
    "\n",
    "q1_tab = q1.groupby('TIME')['Value'].sum()\n",
    "\n",
    "q1_tab2 = q1_tab.reset_index()"
   ]
  },
  {
   "cell_type": "code",
   "execution_count": 5,
   "metadata": {},
   "outputs": [
    {
     "data": {
      "text/html": [
       "<div>\n",
       "<style scoped>\n",
       "    .dataframe tbody tr th:only-of-type {\n",
       "        vertical-align: middle;\n",
       "    }\n",
       "\n",
       "    .dataframe tbody tr th {\n",
       "        vertical-align: top;\n",
       "    }\n",
       "\n",
       "    .dataframe thead th {\n",
       "        text-align: right;\n",
       "    }\n",
       "</style>\n",
       "<table border=\"1\" class=\"dataframe\">\n",
       "  <thead>\n",
       "    <tr style=\"text-align: right;\">\n",
       "      <th></th>\n",
       "      <th>TIME</th>\n",
       "      <th>Value</th>\n",
       "    </tr>\n",
       "  </thead>\n",
       "  <tbody>\n",
       "    <tr>\n",
       "      <th>TIME</th>\n",
       "      <td>1.000000</td>\n",
       "      <td>0.960124</td>\n",
       "    </tr>\n",
       "    <tr>\n",
       "      <th>Value</th>\n",
       "      <td>0.960124</td>\n",
       "      <td>1.000000</td>\n",
       "    </tr>\n",
       "  </tbody>\n",
       "</table>\n",
       "</div>"
      ],
      "text/plain": [
       "           TIME     Value\n",
       "TIME   1.000000  0.960124\n",
       "Value  0.960124  1.000000"
      ]
     },
     "execution_count": 5,
     "metadata": {},
     "output_type": "execute_result"
    }
   ],
   "source": [
    "q1_tab2.corr()"
   ]
  },
  {
   "cell_type": "code",
   "execution_count": 6,
   "metadata": {},
   "outputs": [
    {
     "data": {
      "text/plain": [
       "TIME     1.000000\n",
       "Value    0.960124\n",
       "Name: TIME, dtype: float64"
      ]
     },
     "execution_count": 6,
     "metadata": {},
     "output_type": "execute_result"
    }
   ],
   "source": [
    "q1_tab2.corr()['TIME']"
   ]
  },
  {
   "cell_type": "code",
   "execution_count": 7,
   "metadata": {},
   "outputs": [
    {
     "data": {
      "text/plain": [
       "0.9601244896033333"
      ]
     },
     "execution_count": 7,
     "metadata": {},
     "output_type": "execute_result"
    }
   ],
   "source": [
    "q1_tab2.corr()['TIME']['Value']\n",
    "\n",
    "#답 : 0.96"
   ]
  },
  {
   "cell_type": "markdown",
   "metadata": {},
   "source": [
    "## 2. 한국 인근 국가 가운데 식생의 유사성이 상대적으로 높은 일본(JPN)과 비교하여, 연도별 소비량에 평균 차이가 있는지 분석하고자 한다.\n",
    " - 두 국가의 육류별 소비량을 연도기준으로 비교하는 대응표본 t 검정을 수행하시오.\n",
    " - 두 국가 간의 연도별 소비량 차이가 없는 것으로 판단할 수 있는 육류 종류를 모두 적으시오. (알파벳 순서)"
   ]
  },
  {
   "cell_type": "code",
   "execution_count": 11,
   "metadata": {},
   "outputs": [],
   "source": [
    "from scipy.stats import ttest_rel\n",
    "\n",
    "q2 = data04[data04.LOCATION.isin(['KOR','JPN'])]\n",
    "\n",
    "q2.SUBJECT.unique()\n",
    "#['BEEF', 'PIG', 'POULTRY', 'SHEEP']\n",
    "sub_list = q2.SUBJECT.unique()\n",
    "\n",
    "#temp = q2[q2.SUBJECT == 'BEEF']\n",
    "#q2_tab = pd.pivot_table(temp, index='TIME', columns='LOCATION', values='Value').dropna()\n",
    "\n",
    "#q2_out = ttest_rel(q2_tab['KOR'], q2_tab['JPN'])\n",
    "\n",
    "q2_out2 = []"
   ]
  },
  {
   "cell_type": "code",
   "execution_count": 14,
   "metadata": {},
   "outputs": [
    {
     "data": {
      "text/plain": [
       "2    POULTRY\n",
       "6    POULTRY\n",
       "Name: sub, dtype: object"
      ]
     },
     "execution_count": 14,
     "metadata": {},
     "output_type": "execute_result"
    }
   ],
   "source": [
    "for i in sub_list:\n",
    "    temp = q2[q2.SUBJECT== i]\n",
    "    q2_tab = pd.pivot_table(temp, index='TIME', columns='LOCATION', values='Value').dropna()\n",
    "    \n",
    "    q2_out = ttest_rel(q2_tab['KOR'], q2_tab['JPN'])\n",
    "    pvalue = q2_out.pvalue\n",
    "    q2_out2.append([i, pvalue])\n",
    "\n",
    "q2_out2 = pd.DataFrame(q2_out2, columns=['sub', 'pvalue'])\n",
    "\n",
    "q2_out2[q2_out2.pvalue >= 0.05]['sub']\n",
    "#차이가 있는 경우의 답 : POULTRY"
   ]
  },
  {
   "cell_type": "code",
   "execution_count": 15,
   "metadata": {},
   "outputs": [
    {
     "data": {
      "text/plain": [
       "0     BEEF\n",
       "1      PIG\n",
       "3    SHEEP\n",
       "4     BEEF\n",
       "5      PIG\n",
       "7    SHEEP\n",
       "Name: sub, dtype: object"
      ]
     },
     "execution_count": 15,
     "metadata": {},
     "output_type": "execute_result"
    }
   ],
   "source": [
    "#[참고]\n",
    "q2_out2[q2_out2.pvalue < 0.05]['sub']\n",
    "#차이가 없는 경우의 답 : BEEF, PIG, SHEEP"
   ]
  },
  {
   "cell_type": "markdown",
   "metadata": {},
   "source": [
    "## 3.(한국만 포함한 데이터에서) Time을 독립변수로, Value를 종속변수로 하여 육류 종류(SUBJECT) 별로 회귀분석을 수행하였을 때, 가장 높은 결정계수를 가진 모델의 학습오차 중 MAPE를 반올림하여 소수점 둘째 자리까지 기술하시오.\n",
    " (MAPE : Mean Absolute Percentage Error, 평균 절대 백분율 오차)\n",
    " (MAPE = Σ ( | y - y ̂ | / y ) * 100/n ))"
   ]
  },
  {
   "cell_type": "code",
   "execution_count": 16,
   "metadata": {},
   "outputs": [],
   "source": [
    "from sklearn.linear_model import LinearRegression\n",
    "\n",
    "q3 = q1.copy() #한국만 포함한 데이터\n",
    "\n",
    "sub_list = q3.SUBJECT.unique()\n",
    "\n",
    "q3_out = []"
   ]
  },
  {
   "cell_type": "code",
   "execution_count": 17,
   "metadata": {},
   "outputs": [],
   "source": [
    "for i in sub_list:\n",
    "    temp = q3[q3.SUBJECT == i]\n",
    "    lm = LinearRegression().fit(temp[['TIME']], temp['Value'])\n",
    "    r2 = lm.score(temp[['TIME']], temp['Value'])\n",
    "    pred = lm.predict(temp[['TIME']])\n",
    "    # (MAPE = Σ ( | y - y ̂ | / y ) * 100/n ))\n",
    "    mape = (abs(temp['Value'] - pred)/temp['Value']).sum() * 100 / len(temp)\n",
    "    \n",
    "    q3_out.append([i, r2, mape])   "
   ]
  },
  {
   "cell_type": "code",
   "execution_count": 21,
   "metadata": {},
   "outputs": [
    {
     "data": {
      "text/plain": [
       "sub      POULTRY\n",
       "r2      0.951498\n",
       "mape    5.783358\n",
       "Name: 2, dtype: object"
      ]
     },
     "execution_count": 21,
     "metadata": {},
     "output_type": "execute_result"
    }
   ],
   "source": [
    "q3_out = pd.DataFrame(q3_out, columns=['sub','r2','mape'])\n",
    "\n",
    "q3_out.loc[q3_out.r2.idxmax(),:]"
   ]
  },
  {
   "cell_type": "code",
   "execution_count": 22,
   "metadata": {},
   "outputs": [
    {
     "data": {
      "text/plain": [
       "5.783357902874552"
      ]
     },
     "execution_count": 22,
     "metadata": {},
     "output_type": "execute_result"
    }
   ],
   "source": [
    "q3_out.loc[q3_out.r2.idxmax(),'mape']\n",
    "\n",
    "#정답 : 5.78"
   ]
  },
  {
   "cell_type": "code",
   "execution_count": 23,
   "metadata": {},
   "outputs": [
    {
     "data": {
      "text/plain": [
       "array([ 5.72341431,  5.87801722,  6.03262013,  6.18722305,  6.34182596,\n",
       "        6.49642887,  6.65103178,  6.8056347 ,  6.96023761,  7.11484052,\n",
       "        7.26944343,  7.42404635,  7.57864926,  7.73325217,  7.88785509,\n",
       "        8.042458  ,  8.19706091,  8.35166382,  8.50626674,  8.66086965,\n",
       "        8.81547256,  8.97007547,  9.12467839,  9.2792813 ,  9.43388421,\n",
       "        9.58848712,  9.74309004,  9.89769295, 10.05229586, 10.20689877,\n",
       "       10.36150169, 10.5161046 , 10.67070751, 10.82531042, 10.97991334,\n",
       "       11.13451625])"
      ]
     },
     "execution_count": 23,
     "metadata": {},
     "output_type": "execute_result"
    }
   ],
   "source": [
    "#[참고]\n",
    "for i in sub_list:\n",
    "    temp = q3[q3.SUBJECT == i]\n",
    "    globals()['lm_'+i] = LinearRegression().fit(temp[['TIME']], temp['Value'])\n",
    "\n",
    "temp = q3[q3.SUBJECT == 'BEEF']\n",
    "lm_BEEF.predict(temp[['TIME']])\n",
    "#eval('lm_'+i).predict(temp[['TIME']])\n"
   ]
  }
 ],
 "metadata": {
  "interpreter": {
   "hash": "ce8ad003cbacc730e5ae8e25e04f0b81855cad91beef114a29a8b1ddf1550b22"
  },
  "kernelspec": {
   "display_name": "Python 3.9.7 ('base')",
   "language": "python",
   "name": "python3"
  },
  "language_info": {
   "codemirror_mode": {
    "name": "ipython",
    "version": 3
   },
   "file_extension": ".py",
   "mimetype": "text/x-python",
   "name": "python",
   "nbconvert_exporter": "python",
   "pygments_lexer": "ipython3",
   "version": "3.9.7"
  },
  "orig_nbformat": 4
 },
 "nbformat": 4,
 "nbformat_minor": 2
}
