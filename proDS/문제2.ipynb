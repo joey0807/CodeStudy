{
 "cells": [
  {
   "cell_type": "markdown",
   "metadata": {},
   "source": [
    "# 문제 02 유형(DataSet_02.csv 이용)\n",
    " 구분자 : comma(“,”), 200 Rows, 6 Columns, UTF-8 인코딩\n",
    "\n",
    " 환자의 상태와 그에 따라 처방된 약에 대한 정보를 분석하고자한다\n",
    " \n",
    " 컬 럼 / 정 의  / Type\n",
    " Age  / 연령 / Integer\n",
    " Sex / 성별 / String\n",
    " BP / 혈압 레벨 / String\n",
    " Cholesterol / 콜레스테롤 레벨 /  String\n",
    " Na_to_k / 혈액 내 칼륨에 대비한 나트륨 비율 / Double\n",
    " Drug / Drug Type / String"
   ]
  },
  {
   "cell_type": "code",
   "execution_count": 1,
   "metadata": {},
   "outputs": [],
   "source": [
    "import pandas as pd\n",
    "import numpy as np\n",
    "\n",
    "data02 = pd.read_csv('C:/Users/joey0/CodeStudy/proDS/Dataset/Dataset_02.csv')"
   ]
  },
  {
   "cell_type": "markdown",
   "metadata": {},
   "source": [
    "## 1.해당 데이터에 대한 EDA를 수행하고, 여성으로 혈압이 High, Cholesterol이 Normal인 환자의 전체에 대비한 비율이 얼마인지 소수점 네 번째 자리에서 반올림하여 소수점 셋째 자리까지 기술하시오."
   ]
  },
  {
   "cell_type": "code",
   "execution_count": 2,
   "metadata": {},
   "outputs": [
    {
     "data": {
      "text/plain": [
       "Index(['Age', 'Sex', 'BP', 'Cholesterol', 'Na_to_K', 'Drug'], dtype='object')"
      ]
     },
     "execution_count": 2,
     "metadata": {},
     "output_type": "execute_result"
    }
   ],
   "source": [
    "data02.columns"
   ]
  },
  {
   "cell_type": "code",
   "execution_count": 6,
   "metadata": {},
   "outputs": [
    {
     "data": {
      "text/plain": [
       "0.105"
      ]
     },
     "execution_count": 6,
     "metadata": {},
     "output_type": "execute_result"
    }
   ],
   "source": [
    "q1 = data02[['Sex', 'BP', 'Cholesterol']].value_counts(normalize=True)\n",
    "\n",
    "q1[('F','HIGH','NORMAL')] #정답 : 0.105"
   ]
  },
  {
   "cell_type": "code",
   "execution_count": 9,
   "metadata": {},
   "outputs": [
    {
     "data": {
      "text/html": [
       "<div>\n",
       "<style scoped>\n",
       "    .dataframe tbody tr th:only-of-type {\n",
       "        vertical-align: middle;\n",
       "    }\n",
       "\n",
       "    .dataframe tbody tr th {\n",
       "        vertical-align: top;\n",
       "    }\n",
       "\n",
       "    .dataframe thead th {\n",
       "        text-align: right;\n",
       "    }\n",
       "</style>\n",
       "<table border=\"1\" class=\"dataframe\">\n",
       "  <thead>\n",
       "    <tr style=\"text-align: right;\">\n",
       "      <th></th>\n",
       "      <th>Cholesterol</th>\n",
       "      <th>HIGH</th>\n",
       "      <th>NORMAL</th>\n",
       "    </tr>\n",
       "    <tr>\n",
       "      <th>Sex</th>\n",
       "      <th>BP</th>\n",
       "      <th></th>\n",
       "      <th></th>\n",
       "    </tr>\n",
       "  </thead>\n",
       "  <tbody>\n",
       "    <tr>\n",
       "      <th rowspan=\"3\" valign=\"top\">F</th>\n",
       "      <th>HIGH</th>\n",
       "      <td>0.085</td>\n",
       "      <td>0.105</td>\n",
       "    </tr>\n",
       "    <tr>\n",
       "      <th>LOW</th>\n",
       "      <td>0.070</td>\n",
       "      <td>0.070</td>\n",
       "    </tr>\n",
       "    <tr>\n",
       "      <th>NORMAL</th>\n",
       "      <td>0.090</td>\n",
       "      <td>0.060</td>\n",
       "    </tr>\n",
       "    <tr>\n",
       "      <th rowspan=\"3\" valign=\"top\">M</th>\n",
       "      <th>HIGH</th>\n",
       "      <td>0.090</td>\n",
       "      <td>0.105</td>\n",
       "    </tr>\n",
       "    <tr>\n",
       "      <th>LOW</th>\n",
       "      <td>0.085</td>\n",
       "      <td>0.095</td>\n",
       "    </tr>\n",
       "    <tr>\n",
       "      <th>NORMAL</th>\n",
       "      <td>0.095</td>\n",
       "      <td>0.050</td>\n",
       "    </tr>\n",
       "  </tbody>\n",
       "</table>\n",
       "</div>"
      ],
      "text/plain": [
       "Cholesterol   HIGH  NORMAL\n",
       "Sex BP                    \n",
       "F   HIGH     0.085   0.105\n",
       "    LOW      0.070   0.070\n",
       "    NORMAL   0.090   0.060\n",
       "M   HIGH     0.090   0.105\n",
       "    LOW      0.085   0.095\n",
       "    NORMAL   0.095   0.050"
      ]
     },
     "execution_count": 9,
     "metadata": {},
     "output_type": "execute_result"
    }
   ],
   "source": [
    "q1_1 = pd.crosstab(index=[data02['Sex'],data02['BP']], columns=data02['Cholesterol'], normalize=True)\n",
    "q1_1"
   ]
  },
  {
   "cell_type": "markdown",
   "metadata": {},
   "source": [
    "## 2. Age, Sex, BP, Cholesterol 및 Na_to_k 값이 Drug 타입에 영향을 미치는지 확인하기 위하여 아래와 같이 데이터를 변환하고 분석을 수행하시오. \n",
    " - Age_gr 컬럼을 만들고, Age가 20 미만은 ‘10’, 20부터 30 미만은 ‘20’, 30부터 40 미만은 ‘30’, 40부터 50 미만은 ‘40’, 50부터 60 미만은 ‘50’, 60이상은 ‘60’으로 변환하시오. \n",
    " - Na_K_gr 컬럼을 만들고 Na_to_k 값이 10이하는 ‘Lv1’, 20이하는 ‘Lv2’, 30이하는 ‘Lv3’, 30 초과는 ‘Lv4’로 변환하시오.\n",
    " - Sex, BP, Cholesterol, Age_gr, Na_K_gr이 Drug 변수와 영향이 있는지 독립성 검정을 수행하시오.\n",
    " - 검정 수행 결과, Drug 타입과 연관성이 있는 변수는 몇 개인가? 연관성이 있는 변수 가운데 가장 큰 p-value를 찾아 소수점 여섯 번째 자리 이하는 버리고 소수점 다섯 번째 자리까지 기술하시오."
   ]
  },
  {
   "cell_type": "code",
   "execution_count": 13,
   "metadata": {},
   "outputs": [
    {
     "data": {
      "text/html": [
       "<div>\n",
       "<style scoped>\n",
       "    .dataframe tbody tr th:only-of-type {\n",
       "        vertical-align: middle;\n",
       "    }\n",
       "\n",
       "    .dataframe tbody tr th {\n",
       "        vertical-align: top;\n",
       "    }\n",
       "\n",
       "    .dataframe thead th {\n",
       "        text-align: right;\n",
       "    }\n",
       "</style>\n",
       "<table border=\"1\" class=\"dataframe\">\n",
       "  <thead>\n",
       "    <tr style=\"text-align: right;\">\n",
       "      <th>Drug</th>\n",
       "      <th>DrugY</th>\n",
       "      <th>drugA</th>\n",
       "      <th>drugB</th>\n",
       "      <th>drugC</th>\n",
       "      <th>drugX</th>\n",
       "    </tr>\n",
       "    <tr>\n",
       "      <th>Sex</th>\n",
       "      <th></th>\n",
       "      <th></th>\n",
       "      <th></th>\n",
       "      <th></th>\n",
       "      <th></th>\n",
       "    </tr>\n",
       "  </thead>\n",
       "  <tbody>\n",
       "    <tr>\n",
       "      <th>F</th>\n",
       "      <td>47</td>\n",
       "      <td>9</td>\n",
       "      <td>6</td>\n",
       "      <td>7</td>\n",
       "      <td>27</td>\n",
       "    </tr>\n",
       "    <tr>\n",
       "      <th>M</th>\n",
       "      <td>44</td>\n",
       "      <td>14</td>\n",
       "      <td>10</td>\n",
       "      <td>9</td>\n",
       "      <td>27</td>\n",
       "    </tr>\n",
       "  </tbody>\n",
       "</table>\n",
       "</div>"
      ],
      "text/plain": [
       "Drug  DrugY  drugA  drugB  drugC  drugX\n",
       "Sex                                    \n",
       "F        47      9      6      7     27\n",
       "M        44     14     10      9     27"
      ]
     },
     "execution_count": 13,
     "metadata": {},
     "output_type": "execute_result"
    }
   ],
   "source": [
    "q2 = data02.copy() #data02참조, 원본 보존 가능\n",
    "#파생변수 생성\n",
    "#np.where(조건) : 위치값 리턴\n",
    "#np.where(조건,참,거짓) : 조건에 따라 실행\n",
    "\n",
    "q2['Age_gr'] = np.where(q2.Age < 20,10,\n",
    "                        np.where(q2.Age < 30,20,\n",
    "                                np.where(q2.Age < 40,30,\n",
    "                                        np.where(q2.Age < 50,40,\n",
    "                                                np.where(q2.Age < 60,50,60)))))\n",
    "\n",
    "q2['Na_K_gr'] = np.where(q2.Na_to_K <= 10, 'Lv1',\n",
    "                         np.where(q2.Na_to_K <= 20, 'Lv2',\n",
    "                                    np.where(q2.Na_to_K <= 30, 'Lv3', 'Lv4')))  \n",
    "\n",
    "#카이스퀘어 검정\n",
    "from scipy.stats import chi2_contingency                                                                                  \n",
    "\n",
    "#빈도 산출\n",
    "tab = pd.crosstab(index=q2.Sex, columns=q2.Drug)\n",
    "tab                        "
   ]
  },
  {
   "cell_type": "code",
   "execution_count": 14,
   "metadata": {},
   "outputs": [
    {
     "data": {
      "text/plain": [
       "(2.119248418109203,\n",
       " 0.7138369773987128,\n",
       " 4,\n",
       " array([[43.68, 11.04,  7.68,  7.68, 25.92],\n",
       "        [47.32, 11.96,  8.32,  8.32, 28.08]]))"
      ]
     },
     "execution_count": 14,
     "metadata": {},
     "output_type": "execute_result"
    }
   ],
   "source": [
    "#카이스퀘어 검정 진행\n",
    "#H0 : 서로 독립이다\n",
    "#H1 : 서로 독립이 아니다\n",
    "q2_out = chi2_contingency(tab)\n",
    "q2_out\n",
    "#(2.119248418109203, #카이스퀘어 통계량 sum((O_ij - E_ij))^2/E_ij\n",
    "# 0.7138369773987128, #p-value\n",
    "# 4,\n",
    "# array([[43.68, 11.04,  7.68,  7.68, 25.92],\n",
    "#        [47.32, 11.96,  8.32,  8.32, 28.08]]))"
   ]
  },
  {
   "cell_type": "code",
   "execution_count": 17,
   "metadata": {},
   "outputs": [
    {
     "data": {
      "text/plain": [
       "0.0007010113024729462"
      ]
     },
     "execution_count": 17,
     "metadata": {},
     "output_type": "execute_result"
    }
   ],
   "source": [
    "#반복문 적용\n",
    "q2.columns\n",
    "var_list =  ['Sex', 'BP', 'Cholesterol', 'Age_gr', 'Na_K_gr',]\n",
    "\n",
    "q2_out = []\n",
    "for i in var_list:\n",
    "    tab = pd.crosstab(index=q2[i], columns=q2.Drug)\n",
    "    q2_out0 = chi2_contingency(tab)\n",
    "    pvalue = q2_out0[1]\n",
    "    q2_out.append([i, pvalue])\n",
    "\n",
    "q2_out = pd.DataFrame(q2_out, columns=['var', 'pvalue'])\n",
    "\n",
    "#연관성 높은 변수 찾기\n",
    "q2_out2 = q2_out[q2_out.pvalue < 0.05]\n",
    "\n",
    "q2_out2.pvalue.max()\n",
    "#답 : 0.00070"
   ]
  },
  {
   "cell_type": "code",
   "execution_count": 18,
   "metadata": {},
   "outputs": [
    {
     "data": {
      "text/plain": [
       "0.0"
      ]
     },
     "execution_count": 18,
     "metadata": {},
     "output_type": "execute_result"
    }
   ],
   "source": [
    "#[참고]\n",
    "idx = q2_out2.pvalue.idxmax()\n",
    "q2_out2.iloc[idx,:]\n",
    "\n",
    "#연관성이 있는 변수\n",
    "# 가운데 가장 큰 p-value를 찾아 소수점 여섯 번째 자리 이하는 버리고 소수점 다섯\n",
    "# 번째 자리까지 기술\n",
    "\n",
    "#[참고] 올림/내림 함수 사용\n",
    "import math\n",
    "int(0.0007 * 10000)\n",
    "#math.ceil?\n",
    "math.ceil(777.1234)\n",
    "math.floor(777.1234)\n",
    "math.ceil(0.0007*1000)/10000\n",
    "math.floor(0.0007*1000)/10000"
   ]
  },
  {
   "cell_type": "markdown",
   "metadata": {},
   "source": [
    "## 3.Sex, BP, Cholesterol 등 세 개의 변수를 다음과 같이 변환하고 의사결정나무를 이용한 분석을 수행하시오.\n",
    " - Sex는 M을 0, F를 1로 변환하여 Sex_cd 변수 생성\n",
    " - BP는 LOW는 0, NORMAL은 1 그리고 HIGH는 2로 변환하여 BP_cd 변수 생성\n",
    " - Cholesterol은 NORMAL은 0, HIGH는 1로 변환하여 Ch_cd 생성\n",
    " - Age, Na_to_k, Sex_cd, BP_cd, Ch_cd를 Feature로, Drug을 Label로 하여 의사결정나무를 수행하고 Root Node의 split feature와 split value를 기술하시오. \n",
    " 이 때 split value는 소수점 셋째 자리까지 반올림하여 기술하시오."
   ]
  },
  {
   "cell_type": "code",
   "execution_count": 20,
   "metadata": {},
   "outputs": [],
   "source": [
    "#파생변수(더미 생성)\n",
    "q3 = data02.copy()\n",
    "q3['Sex_cd'] = np.where(q3.Sex == 'M', 0, 1)\n",
    "q3['BP_cd'] = np.where(q3.BP == 'Low', 0,\n",
    "                       np.where(q3.BP == 'NORMAL', 1, 2))\n",
    "q3['Ch_cd'] = np.where(q3.Cholesterol == 'NORMAL', 0, 1)\n",
    "\n",
    "#의사결정나무 생성 시 파라메터\n",
    "var_list = ['Age', 'Na_to_K', 'Sex_cd', 'BP_cd', 'Ch_cd']\n",
    "\n",
    "from sklearn.tree import DecisionTreeClassifier, plot_tree, export_text"
   ]
  },
  {
   "cell_type": "code",
   "execution_count": 22,
   "metadata": {},
   "outputs": [
    {
     "data": {
      "text/plain": [
       "DecisionTreeClassifier()"
      ]
     },
     "execution_count": 22,
     "metadata": {},
     "output_type": "execute_result"
    }
   ],
   "source": [
    "dt = DecisionTreeClassifier().fit(q3[var_list], q3.Drug)\n",
    "dt"
   ]
  },
  {
   "cell_type": "code",
   "execution_count": 23,
   "metadata": {},
   "outputs": [
    {
     "name": "stdout",
     "output_type": "stream",
     "text": [
      "|--- Na_to_K <= 14.829\n",
      "|   |--- BP_cd <= 1.500\n",
      "|   |   |--- class: drugX\n",
      "|   |--- BP_cd >  1.500\n",
      "|   |   |--- Age <= 50.500\n",
      "|   |   |   |--- Ch_cd <= 0.500\n",
      "|   |   |   |   |--- Age <= 33.000\n",
      "|   |   |   |   |   |--- Age <= 22.000\n",
      "|   |   |   |   |   |   |--- class: drugX\n",
      "|   |   |   |   |   |--- Age >  22.000\n",
      "|   |   |   |   |   |   |--- Age <= 31.500\n",
      "|   |   |   |   |   |   |   |--- class: drugA\n",
      "|   |   |   |   |   |   |--- Age >  31.500\n",
      "|   |   |   |   |   |   |   |--- Na_to_K <= 10.566\n",
      "|   |   |   |   |   |   |   |   |--- class: drugA\n",
      "|   |   |   |   |   |   |   |--- Na_to_K >  10.566\n",
      "|   |   |   |   |   |   |   |   |--- class: drugX\n",
      "|   |   |   |   |--- Age >  33.000\n",
      "|   |   |   |   |   |--- Age <= 37.500\n",
      "|   |   |   |   |   |   |--- class: drugX\n",
      "|   |   |   |   |   |--- Age >  37.500\n",
      "|   |   |   |   |   |   |--- Na_to_K <= 13.182\n",
      "|   |   |   |   |   |   |   |--- Age <= 46.500\n",
      "|   |   |   |   |   |   |   |   |--- Na_to_K <= 10.672\n",
      "|   |   |   |   |   |   |   |   |   |--- class: drugX\n",
      "|   |   |   |   |   |   |   |   |--- Na_to_K >  10.672\n",
      "|   |   |   |   |   |   |   |   |   |--- Age <= 39.000\n",
      "|   |   |   |   |   |   |   |   |   |   |--- class: drugA\n",
      "|   |   |   |   |   |   |   |   |   |--- Age >  39.000\n",
      "|   |   |   |   |   |   |   |   |   |   |--- Age <= 41.000\n",
      "|   |   |   |   |   |   |   |   |   |   |   |--- class: drugX\n",
      "|   |   |   |   |   |   |   |   |   |   |--- Age >  41.000\n",
      "|   |   |   |   |   |   |   |   |   |   |   |--- class: drugA\n",
      "|   |   |   |   |   |   |   |--- Age >  46.500\n",
      "|   |   |   |   |   |   |   |   |--- Na_to_K <= 10.730\n",
      "|   |   |   |   |   |   |   |   |   |--- class: drugA\n",
      "|   |   |   |   |   |   |   |   |--- Na_to_K >  10.730\n",
      "|   |   |   |   |   |   |   |   |   |--- class: drugX\n",
      "|   |   |   |   |   |   |--- Na_to_K >  13.182\n",
      "|   |   |   |   |   |   |   |--- class: drugX\n",
      "|   |   |   |--- Ch_cd >  0.500\n",
      "|   |   |   |   |--- Age <= 46.000\n",
      "|   |   |   |   |   |--- Age <= 33.500\n",
      "|   |   |   |   |   |   |--- Age <= 21.000\n",
      "|   |   |   |   |   |   |   |--- Age <= 17.500\n",
      "|   |   |   |   |   |   |   |   |--- class: drugC\n",
      "|   |   |   |   |   |   |   |--- Age >  17.500\n",
      "|   |   |   |   |   |   |   |   |--- class: drugA\n",
      "|   |   |   |   |   |   |--- Age >  21.000\n",
      "|   |   |   |   |   |   |   |--- Sex_cd <= 0.500\n",
      "|   |   |   |   |   |   |   |   |--- Na_to_K <= 7.654\n",
      "|   |   |   |   |   |   |   |   |   |--- class: drugC\n",
      "|   |   |   |   |   |   |   |   |--- Na_to_K >  7.654\n",
      "|   |   |   |   |   |   |   |   |   |--- Age <= 22.500\n",
      "|   |   |   |   |   |   |   |   |   |   |--- class: drugC\n",
      "|   |   |   |   |   |   |   |   |   |--- Age >  22.500\n",
      "|   |   |   |   |   |   |   |   |   |   |--- class: drugA\n",
      "|   |   |   |   |   |   |   |--- Sex_cd >  0.500\n",
      "|   |   |   |   |   |   |   |   |--- class: drugC\n",
      "|   |   |   |   |   |--- Age >  33.500\n",
      "|   |   |   |   |   |   |--- Na_to_K <= 11.117\n",
      "|   |   |   |   |   |   |   |--- Na_to_K <= 10.350\n",
      "|   |   |   |   |   |   |   |   |--- class: drugA\n",
      "|   |   |   |   |   |   |   |--- Na_to_K >  10.350\n",
      "|   |   |   |   |   |   |   |   |--- class: drugC\n",
      "|   |   |   |   |   |   |--- Na_to_K >  11.117\n",
      "|   |   |   |   |   |   |   |--- class: drugA\n",
      "|   |   |   |   |--- Age >  46.000\n",
      "|   |   |   |   |   |--- Age <= 49.500\n",
      "|   |   |   |   |   |   |--- Na_to_K <= 10.470\n",
      "|   |   |   |   |   |   |   |--- Na_to_K <= 10.259\n",
      "|   |   |   |   |   |   |   |   |--- class: drugC\n",
      "|   |   |   |   |   |   |   |--- Na_to_K >  10.259\n",
      "|   |   |   |   |   |   |   |   |--- class: drugA\n",
      "|   |   |   |   |   |   |--- Na_to_K >  10.470\n",
      "|   |   |   |   |   |   |   |--- class: drugC\n",
      "|   |   |   |   |   |--- Age >  49.500\n",
      "|   |   |   |   |   |   |--- class: drugA\n",
      "|   |   |--- Age >  50.500\n",
      "|   |   |   |--- Ch_cd <= 0.500\n",
      "|   |   |   |   |--- Age <= 60.500\n",
      "|   |   |   |   |   |--- class: drugB\n",
      "|   |   |   |   |--- Age >  60.500\n",
      "|   |   |   |   |   |--- Na_to_K <= 11.398\n",
      "|   |   |   |   |   |   |--- Na_to_K <= 8.509\n",
      "|   |   |   |   |   |   |   |--- class: drugX\n",
      "|   |   |   |   |   |   |--- Na_to_K >  8.509\n",
      "|   |   |   |   |   |   |   |--- class: drugB\n",
      "|   |   |   |   |   |--- Na_to_K >  11.398\n",
      "|   |   |   |   |   |   |--- class: drugX\n",
      "|   |   |   |--- Ch_cd >  0.500\n",
      "|   |   |   |   |--- Na_to_K <= 12.435\n",
      "|   |   |   |   |   |--- Age <= 55.500\n",
      "|   |   |   |   |   |   |--- class: drugB\n",
      "|   |   |   |   |   |--- Age >  55.500\n",
      "|   |   |   |   |   |   |--- Sex_cd <= 0.500\n",
      "|   |   |   |   |   |   |   |--- Na_to_K <= 8.168\n",
      "|   |   |   |   |   |   |   |   |--- class: drugC\n",
      "|   |   |   |   |   |   |   |--- Na_to_K >  8.168\n",
      "|   |   |   |   |   |   |   |   |--- Na_to_K <= 10.070\n",
      "|   |   |   |   |   |   |   |   |   |--- class: drugB\n",
      "|   |   |   |   |   |   |   |   |--- Na_to_K >  10.070\n",
      "|   |   |   |   |   |   |   |   |   |--- Na_to_K <= 10.650\n",
      "|   |   |   |   |   |   |   |   |   |   |--- class: drugC\n",
      "|   |   |   |   |   |   |   |   |   |--- Na_to_K >  10.650\n",
      "|   |   |   |   |   |   |   |   |   |   |--- class: drugB\n",
      "|   |   |   |   |   |   |--- Sex_cd >  0.500\n",
      "|   |   |   |   |   |   |   |--- class: drugC\n",
      "|   |   |   |   |--- Na_to_K >  12.435\n",
      "|   |   |   |   |   |--- class: drugB\n",
      "|--- Na_to_K >  14.829\n",
      "|   |--- class: DrugY\n",
      "\n"
     ]
    },
    {
     "data": {
      "image/png": "[encoded data removed]",
      "text/plain": [
       "<Figure size 432x288 with 1 Axes>"
      ]
     },
     "metadata": {
      "needs_background": "light"
     },
     "output_type": "display_data"
    }
   ],
   "source": [
    "plot_tree(dt, max_depth=2,\n",
    "          feature_names=var_list,\n",
    "          class_names=list(q3.Drug.unique()), \n",
    "          precision=3,\n",
    "          fontsize=10)\n",
    "\n",
    "print(export_text(dt, \n",
    "                  feature_names=var_list,\n",
    "                  decimals=3))\n",
    "\n",
    "#정답 : Na_to_K, 14.829"
   ]
  }
 ],
 "metadata": {
  "interpreter": {
   "hash": "ce8ad003cbacc730e5ae8e25e04f0b81855cad91beef114a29a8b1ddf1550b22"
  },
  "kernelspec": {
   "display_name": "Python 3.9.7 ('base')",
   "language": "python",
   "name": "python3"
  },
  "language_info": {
   "codemirror_mode": {
    "name": "ipython",
    "version": 3
   },
   "file_extension": ".py",
   "mimetype": "text/x-python",
   "name": "python",
   "nbconvert_exporter": "python",
   "pygments_lexer": "ipython3",
   "version": "3.9.7"
  },
  "orig_nbformat": 4
 },
 "nbformat": 4,
 "nbformat_minor": 2
}
