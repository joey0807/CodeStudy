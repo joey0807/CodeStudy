{
 "cells": [
  {
   "cell_type": "markdown",
   "metadata": {},
   "source": [
    "# 문제 09 유형(DataSet_09.csv 이용)\n",
    "\n",
    " 구분자 : comma(“,”), 2000 Rows, 16 Columns, UTF-8 인코딩\n",
    "\n",
    " 항공사에서 고객만족도 조사를 하고 서비스 개선에 활용하고자 아래와 같은 데이터를 준비하였다.\n",
    "\n",
    " 컬 럼 / 정 의 / Type\n",
    " satisfaction / 서비스 만족 여부 / String\n",
    " Gender / 성별 / String\n",
    " Age / 나이 / Double\n",
    " Customer_Type / 고객 타입 / String\n",
    " Class / 탑승 좌석 등급 / String\n",
    " Flight_Distance / 비행 거리 / Double\n",
    " Seat_comfort / 좌석 안락도 점수 / Double\n",
    " Food_and_Drink / 식사와 음료 점수 / Double\n",
    " Inflight_wifi_service / 기내 와이파이 서비스 점수 / Double\n",
    " Inflight_entertainment / 기내 엔터테인먼트 서비스 점수 / Double\n",
    " Onboard_service / 탑승 서비스 점수 / Double\n",
    " Leg_room_service / 다리 공간 점수 / Double\n",
    " Baggage_handling / 수하물 취급 점수 / Double\n",
    " Cleanliness / 청결도 점수 / Double\n",
    " Departure_Daly_in_Minutes / 출발 지연 (분) / Double\n",
    " Arrival_Delay_in_Minutes / 도착 지연 (분) / Double"
   ]
  },
  {
   "cell_type": "code",
   "execution_count": 2,
   "metadata": {},
   "outputs": [],
   "source": [
    "import pandas as pd\n",
    "\n",
    "data9=pd.read_csv('C:/Users/joey0/CodeStudy/proDS/Dataset/Dataset_09.csv')"
   ]
  },
  {
   "cell_type": "markdown",
   "metadata": {},
   "source": [
    "## 1.데이터 타입을 위 표에 정의된 타입으로 전처리를 한 후, 데이터 파일 내에 결측값은 총 몇 개인가?"
   ]
  },
  {
   "cell_type": "code",
   "execution_count": 3,
   "metadata": {},
   "outputs": [
    {
     "data": {
      "text/plain": [
       "5"
      ]
     },
     "execution_count": 3,
     "metadata": {},
     "output_type": "execute_result"
    }
   ],
   "source": [
    "data9.isna().sum().sum()\n",
    "\n",
    "#정답 : 5"
   ]
  },
  {
   "cell_type": "markdown",
   "metadata": {},
   "source": [
    "## 2.다음에 제시된 데이터 처리를 하고 카이제곱 독립성 검정을 수행하시오.\n",
    " - 결측값이 있다면 해당 행을 제거하시오.\n",
    " - 나이는 20 이하이면 10, 30 이하이면 20, 40 이하이면 30, 50 이하이면 40, 60 이하이면 50, 60 초과는 60으로 변환하여 Age_gr으로 파생변수를 생성하시오.\n",
    " - Age_gr, Gender, Customer_Type, Class 변수가 satisfaction에 영향이 있는지 카이제곱 독립성 검정을 수행하시오. \n",
    " - 연관성이 있는 것으로 파악된 변수의 검정통계량 추정치를 정수 부분만 기술하시오."
   ]
  },
  {
   "cell_type": "code",
   "execution_count": 4,
   "metadata": {},
   "outputs": [],
   "source": [
    "q2=data9.copy()\n",
    "q2.columns\n",
    "\n",
    "import numpy as np\n",
    "q2['Age_gr']=np.where(q2.Age <= 20, 10,\n",
    "                np.where(q2.Age <= 30, 20,\n",
    "                   np.where(q2.Age <= 40, 30,\n",
    "                     np.where(q2.Age <= 50, 40,\n",
    "                        np.where(q2.Age <= 60, 50,  60)))))\n",
    "\n",
    "\n",
    "from scipy.stats import chi2_contingency"
   ]
  },
  {
   "cell_type": "code",
   "execution_count": 5,
   "metadata": {},
   "outputs": [
    {
     "data": {
      "text/plain": [
       "1    1068.632582\n",
       "Name: chi, dtype: float64"
      ]
     },
     "execution_count": 5,
     "metadata": {},
     "output_type": "execute_result"
    }
   ],
   "source": [
    "# - Age_gr, Gender, Customer_Type, Class 변수가 satisfaction에 영향이 있는지\n",
    "var_list=['Age_gr', 'Gender', 'Customer_Type', 'Class']\n",
    "\n",
    "q2_out=[]\n",
    "for i in var_list:\n",
    "    q2_tab=pd.crosstab(index=q2[i], columns=q2['satisfaction'])\n",
    "    chi, pvalue, *_=chi2_contingency(q2_tab)\n",
    "    q2_out.append([i, chi, pvalue])\n",
    "\n",
    "q2_out=pd.DataFrame(q2_out, columns=['var', 'chi', 'pvalue'])\n",
    "\n",
    "q2_out[q2_out.pvalue < 0.05]['chi']\n",
    "\n",
    "#정답 : 1068"
   ]
  },
  {
   "cell_type": "markdown",
   "metadata": {},
   "source": [
    "## 3.고객 만족도를 라벨로 하여 다음과 같이 로지스틱 회귀분석을 수행하시오. \n",
    " - 결측치가 포함된 행은 제거\n",
    " - 데이터를 7대 3으로 분리 (Seed = 123)\n",
    " - 아래의 11개 변수를 Feature로 사용\n",
    " Flight_Distance, Seat_comfort, Food_and_drink, Inflight_wifi_service, \n",
    " Inflight_entertainment,Onboard_service, Leg_room_service, Baggage_handling,\n",
    " Cleanliness, Departure_Delay_in_Minutes, Arrival_Delay_in_Minutes\n",
    " \n",
    " - Seed = 123, 이외의 항목은 모두 Default 사용\n",
    " - 예측 정확도를 측정하고 dissatisfied의 f1 score를 소수점 넷째 자리에서 반올림하여 소수점 셋째 자리까지 기술하시오."
   ]
  },
  {
   "cell_type": "code",
   "execution_count": 8,
   "metadata": {},
   "outputs": [
    {
     "data": {
      "text/plain": [
       "0.7771084337349397"
      ]
     },
     "execution_count": 8,
     "metadata": {},
     "output_type": "execute_result"
    }
   ],
   "source": [
    "from sklearn.linear_model import LogisticRegression\n",
    "from sklearn.model_selection import train_test_split\n",
    "# from sklearn import metrics\n",
    "from sklearn.metrics import f1_score, classification_report\n",
    "\n",
    "\n",
    "x_var=['Flight_Distance', 'Seat_comfort', 'Food_and_drink',\n",
    "       'Inflight_wifi_service','Inflight_entertainment', 'Onboard_service', \n",
    "       'Leg_room_service', 'Baggage_handling', 'Cleanliness',\n",
    "       'Departure_Delay_in_Minutes', 'Arrival_Delay_in_Minutes']\n",
    "\n",
    "q3=data9.dropna()\n",
    "\n",
    "X_train, X_test, y_train, y_test = \\\n",
    "    train_test_split(q3[x_var], q3['satisfaction'], \n",
    "                 test_size = 0.3, random_state = 123)\n",
    "\n",
    "model = LogisticRegression(solver = 'liblinear',random_state=123)\n",
    "result = model.fit(X_train, y_train)\n",
    "\n",
    "y_pred = model.predict(X_test)\n",
    "\n",
    "\n",
    "f1_score(y_test, y_pred, pos_label='dissatisfied')\n",
    "\n",
    "#정답 : 0.777"
   ]
  }
 ],
 "metadata": {
  "interpreter": {
   "hash": "ce8ad003cbacc730e5ae8e25e04f0b81855cad91beef114a29a8b1ddf1550b22"
  },
  "kernelspec": {
   "display_name": "Python 3.9.7 ('base')",
   "language": "python",
   "name": "python3"
  },
  "language_info": {
   "codemirror_mode": {
    "name": "ipython",
    "version": 3
   },
   "file_extension": ".py",
   "mimetype": "text/x-python",
   "name": "python",
   "nbconvert_exporter": "python",
   "pygments_lexer": "ipython3",
   "version": "3.9.7"
  },
  "orig_nbformat": 4
 },
 "nbformat": 4,
 "nbformat_minor": 2
}
