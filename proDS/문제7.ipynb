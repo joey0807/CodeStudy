{
 "cells": [
  {
   "cell_type": "markdown",
   "metadata": {},
   "source": [
    "# 문제 07 유형(DataSet_07.csv 이용)\n",
    "\n",
    " 구분자 : comma(“,”), 400 Rows, 9 Columns, UTF-8 인코딩\n",
    "\n",
    " 대학원 진학을 위하여 어떤 항목이 중요하게 영향을 미치는지 아래 데이터로 분석하고자 한다.\n",
    "\n",
    " 컬 럼 / 정 의 / Type\n",
    " Serial_No / 구분자 번호 / Double\n",
    " GRE / GRE 시험 성적 / Double\n",
    " TOEFL / TOEFL 시험 성적 / Double\n",
    " University_Rating / 대학 평가 그룹 (1 ~ 5) / Double\n",
    " SOP / 자기 소개서 점수 (1 ~ 5) / Double\n",
    " LOR / 추천서 점수 (1 ~ 5) / Double\n",
    " CGPA / 학부 평량 평점 (10점 만점 환산 점수) / Double\n",
    " Research / 연구 참여 경험 여부 (0 / 1) / Double\n",
    " Chance_of_Admit / 합격 가능성 / Double"
   ]
  },
  {
   "cell_type": "code",
   "execution_count": 2,
   "metadata": {},
   "outputs": [
    {
     "data": {
      "text/plain": [
       "Index(['Serial_No', 'GRE', 'TOEFL', 'University_Rating', 'SOP', 'LOR', 'CGPA',\n",
       "       'Research', 'Chance_of_Admit'],\n",
       "      dtype='object')"
      ]
     },
     "execution_count": 2,
     "metadata": {},
     "output_type": "execute_result"
    }
   ],
   "source": [
    "import pandas as pd\n",
    "import numpy as np\n",
    "\n",
    "data7=pd.read_csv(\"C:/Users/joey0/CodeStudy/proDS/Dataset/Dataset_07.csv\")\n",
    "data7.columns"
   ]
  },
  {
   "cell_type": "markdown",
   "metadata": {},
   "source": [
    "## 1. 합격 가능성에 GRE, TOEFL, CGPA 점수 가운데 가장 영향이 큰 것이 어떤 점수인지 알아 보기 위해서 상관 분석을 수행한다.\n",
    " - 피어슨(Pearson) 상관계수 값을 구한다.\n",
    " - Chance_of_Admit와의 가장 큰 상관계수 값을 가지는 항목의 상관계수를 소수점 넷째 자리에서 반올림하여 셋째 자리까지 기술하시오."
   ]
  },
  {
   "cell_type": "code",
   "execution_count": 3,
   "metadata": {},
   "outputs": [
    {
     "data": {
      "text/plain": [
       "0.8732890993553003"
      ]
     },
     "execution_count": 3,
     "metadata": {},
     "output_type": "execute_result"
    }
   ],
   "source": [
    "var_list=['GRE', 'TOEFL', 'CGPA','Chance_of_Admit']\n",
    "\n",
    "\n",
    "q1=data7[var_list].corr().drop('Chance_of_Admit')['Chance_of_Admit']\n",
    "abs(q1).max() \n",
    "\n",
    "#정답 : 0.873"
   ]
  },
  {
   "cell_type": "markdown",
   "metadata": {},
   "source": [
    "## 2.GRE 점수의 평균 이상을 받은 그룹과 평균 미만을 받은 그룹의 CGPA 평균은 차이가 있는지 검정을 하고자 한다.\n",
    " - 적절한 검정 방법을 선택하고 양측 검정을 수행하시오 (등분산으로 가정)\n",
    " - 검정 결과, 검정통계량의 추정치를 소수점 셋째 자리에서 반올림하여 소수점 두 자리까지 기술하시오."
   ]
  },
  {
   "cell_type": "code",
   "execution_count": 4,
   "metadata": {},
   "outputs": [
    {
     "data": {
      "text/plain": [
       "19.443291692470982"
      ]
     },
     "execution_count": 4,
     "metadata": {},
     "output_type": "execute_result"
    }
   ],
   "source": [
    "mu=data7['GRE'].mean()\n",
    "\n",
    "q2=data7.copy()\n",
    "q2['GRE_gr']=np.where(q2.GRE >= mu, 1, 0)\n",
    "\n",
    "g1=q2[q2.GRE_gr == 1]['CGPA']\n",
    "g0=q2[q2.GRE_gr == 0]['CGPA']\n",
    "\n",
    "\n",
    "from scipy.stats import ttest_ind\n",
    "\n",
    "q2_out=ttest_ind(g1, g0, equal_var=True)\n",
    "\n",
    "q2_out.statistic\n",
    "\n",
    "#정답 : 19.44"
   ]
  },
  {
   "cell_type": "markdown",
   "metadata": {},
   "source": [
    "## 3.Chance_of_Admit 확률이 0.5를 초과하면 합격으로, 이하이면 불합격으로 구분하고 로지스틱 회귀분석을 수행하시오.\n",
    " - 원데이터만 사용하고, 원데이터 가운데 Serial_No와 Label은 모형에서 제외\n",
    " - 각 설정값은 다음과 같이 지정하고, 언급되지 않은 사항은 기본 설정값을 사용하시오\n",
    " Seed : 123\n",
    " - 로지스틱 회귀분석 수행 결과에서 로지스틱 회귀계수의 절대값이 가장 큰 변수와 그 값을 기술하시오. (로지스틱 회귀계수는 반올림하여 소수점 둘째 자리까지 / Intercept는 제외)"
   ]
  },
  {
   "cell_type": "code",
   "execution_count": 5,
   "metadata": {},
   "outputs": [
    {
     "data": {
      "text/plain": [
       "LogisticRegression(fit_intercept=False, random_state=12, solver='liblinear')"
      ]
     },
     "execution_count": 5,
     "metadata": {},
     "output_type": "execute_result"
    }
   ],
   "source": [
    "q3=data7.copy()\n",
    "\n",
    "q3['Ch_cd']=np.where(q3.Chance_of_Admit > 0.5 , 1, 0)\n",
    "\n",
    "from sklearn.linear_model import LogisticRegression\n",
    "\n",
    "x_list=data7.columns.drop(['Serial_No','Chance_of_Admit'])\n",
    "\n",
    "logit=LogisticRegression(fit_intercept=False, \n",
    "                         random_state=12, solver = 'liblinear')\n",
    "\n",
    "logit.fit(q3[x_list], q3['Ch_cd'])"
   ]
  },
  {
   "cell_type": "code",
   "execution_count": 7,
   "metadata": {},
   "outputs": [
    {
     "data": {
      "text/plain": [
       "CGPA    1.955354\n",
       "dtype: float64"
      ]
     },
     "execution_count": 7,
     "metadata": {},
     "output_type": "execute_result"
    }
   ],
   "source": [
    "logit.coef_.shape\n",
    "q3_out=pd.Series(logit.coef_.reshape(-1))\n",
    "\n",
    "q3_out.index=x_list\n",
    "q3_out.abs().nlargest(1)\n",
    "\n",
    "#정답 : GCPA, 1.96"
   ]
  }
 ],
 "metadata": {
  "interpreter": {
   "hash": "ce8ad003cbacc730e5ae8e25e04f0b81855cad91beef114a29a8b1ddf1550b22"
  },
  "kernelspec": {
   "display_name": "Python 3.9.7 ('base')",
   "language": "python",
   "name": "python3"
  },
  "language_info": {
   "codemirror_mode": {
    "name": "ipython",
    "version": 3
   },
   "file_extension": ".py",
   "mimetype": "text/x-python",
   "name": "python",
   "nbconvert_exporter": "python",
   "pygments_lexer": "ipython3",
   "version": "3.9.7"
  },
  "orig_nbformat": 4
 },
 "nbformat": 4,
 "nbformat_minor": 2
}
