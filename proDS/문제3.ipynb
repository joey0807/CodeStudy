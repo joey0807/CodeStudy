{
 "cells": [
  {
   "cell_type": "markdown",
   "metadata": {},
   "source": [
    "# # 문제 03 유형(DataSet_03.csv 이용)\n",
    " \n",
    " 구분자 : comma(“,”), 5,001 Rows, 8 Columns, UTF-8 인코딩\n",
    " 안경 체인을 운영하고 있는 한 회사에서 고객 사진을 바탕으로 안경의 사이즈를 맞춤 제작하는 비즈니스를 기획하고 있다. 우선 데이터만으로 고객의 성별을 파악하는 것이 가능할 지를 연구하고자 한다.\n",
    "\n",
    " 컬 럼 / 정 의 / Type\n",
    " long_hair / 머리카락 길이 (0 – 길지 않은 경우 / 1 – 긴\n",
    " 경우) / Integer\n",
    " forehead_width_cm / 이마의 폭 (cm) / Double\n",
    " forehead_height_cm / 이마의 높이 (cm) / Double\n",
    " nose_wide / 코의 넓이 (0 – 넓지 않은 경우 / 1 – 넓은 경우) / Integer\n",
    " nose_long / 코의 길이 (0 – 길지 않은 경우 / 1 – 긴 경우) / Integer\n",
    " lips_thin / 입술이 얇은지 여부 0 – 얇지 않은 경우 / 1 –\n",
    " 얇은 경우) / Integer\n",
    " distance_nose_to_lip_long / 인중의 길이(0 – 인중이 짧은 경우 / 1 – 인중이\n",
    " 긴 경우) / Integer\n",
    " gender / 성별 (Female / Male) / String"
   ]
  },
  {
   "cell_type": "code",
   "execution_count": 1,
   "metadata": {},
   "outputs": [],
   "source": [
    "import pandas as pd\n",
    "import numpy as np\n",
    "\n",
    "data03 = pd.read_csv('C:/Users/joey0/CodeStudy/proDS/Dataset/Dataset_03.csv')"
   ]
  },
  {
   "cell_type": "markdown",
   "metadata": {},
   "source": [
    "## 1.이마의 폭(forehead_width_cm)과 높이(forehead_height_cm) 사이의 비율(forehead_ratio)에 대해서 평균으로부터 3 표준편차 밖의 경우를 이상치로 정의할 때, 이상치에 해당하는 데이터는 몇 개인가?"
   ]
  },
  {
   "cell_type": "code",
   "execution_count": 2,
   "metadata": {},
   "outputs": [
    {
     "data": {
      "text/plain": [
       "3"
      ]
     },
     "execution_count": 2,
     "metadata": {},
     "output_type": "execute_result"
    }
   ],
   "source": [
    "q1 = data03.copy()\n",
    "\n",
    "q1['forehead_ratio'] = q1['forehead_width_cm'] / q1['forehead_height_cm']\n",
    "\n",
    "xbar = q1['forehead_ratio'].mean()\n",
    "std = q1['forehead_ratio'].std()\n",
    "\n",
    "UB = xbar + (3 * std)\n",
    "LB = xbar - (3 * std)\n",
    "\n",
    "len(q1[(q1['forehead_ratio'] > UB) | (q1['forehead_ratio'] < LB)])\n",
    "\n",
    "#정답 : 3"
   ]
  },
  {
   "cell_type": "markdown",
   "metadata": {},
   "source": [
    "## 2.성별에 따라 forehead_ratio 평균에 차이가 있는지 적절한 통계 검정을 수행하시오.\n",
    " - 검정은 이분산을 가정하고 수행한다.\n",
    " - 검정통계량의 추정치는 절대값을 취한 후 소수점 셋째 자리까지 반올림하여 기술하시오.\n",
    " - 신뢰수준 99%에서 양측 검정을 수행하고 결과는 귀무가설 기각의 경우 Y로, 그렇지 않을 경우 N으로 답하시오."
   ]
  },
  {
   "cell_type": "code",
   "execution_count": 3,
   "metadata": {},
   "outputs": [
    {
     "data": {
      "text/plain": [
       "Index(['long_hair', 'forehead_width_cm', 'forehead_height_cm', 'nose_wide',\n",
       "       'nose_long', 'lips_thin', 'distance_nose_to_lip_long', 'gender',\n",
       "       'forehead_ratio'],\n",
       "      dtype='object')"
      ]
     },
     "execution_count": 3,
     "metadata": {},
     "output_type": "execute_result"
    }
   ],
   "source": [
    "from scipy.stats import ttest_ind, ttest_rel\n",
    "\n",
    "q1.columns"
   ]
  },
  {
   "cell_type": "code",
   "execution_count": 9,
   "metadata": {},
   "outputs": [
    {
     "data": {
      "text/plain": [
       "True"
      ]
     },
     "execution_count": 9,
     "metadata": {},
     "output_type": "execute_result"
    }
   ],
   "source": [
    "q1.gender.unique()\n",
    "\n",
    "g_m = q1[q1.gender == 'Male']['forehead_ratio']\n",
    "g_f = q1[q1.gender == 'Female']['forehead_ratio']\n",
    "\n",
    "q2_out = ttest_ind(g_m, g_f, equal_var=False)\n",
    "#Ttest_indResult(statistic=2.9994984197511543, pvalue=0.0027186702390657176)\n",
    "\n",
    "round(q2_out.statistic, 3) #2.999\n",
    "q2_out.pvalue < 0.01 #True\n",
    "\n",
    "#정답 : 2.999, Y"
   ]
  },
  {
   "cell_type": "markdown",
   "metadata": {},
   "source": [
    "## 3.주어진 데이터를 사용하여 성별을 구분할 수 있는지 로지스틱 회귀분석을 적용하여 알아 보고자 한다. \n",
    " - 데이터를 7대 3으로 나누어 각각 Train과 Test set로 사용한다. 이 때 seed는 123으로 한다.\n",
    " - 원 데이터에 있는 7개의 변수만 Feature로 사용하고 gender를 label로 사용한다. (forehead_ratio는 사용하지 않음)\n",
    " - 로지스틱 회귀분석 예측 함수와 Test dataset를 사용하여 예측을 수행하고 정확도를 평가한다. 이 때 임계값은 0.5를 사용한다. \n",
    " - Male의 Precision 값을 소수점 둘째 자리까지 반올림하여 기술하시오."
   ]
  },
  {
   "cell_type": "code",
   "execution_count": 10,
   "metadata": {},
   "outputs": [],
   "source": [
    "q3 = data03.copy()\n",
    "\n",
    "q3.columns\n",
    "#['long_hair', 'forehead_width_cm', 'forehead_height_cm', 'nose_wide', 'nose_long', 'lips_thin', 'distance_nose_to_lip_long', 'gender']\n",
    "\n",
    "from sklearn.linear_model import LogisticRegression\n",
    "from sklearn.model_selection import train_test_split\n",
    "from sklearn.metrics import precision_score, classification_report"
   ]
  },
  {
   "cell_type": "code",
   "execution_count": 13,
   "metadata": {},
   "outputs": [
    {
     "name": "stdout",
     "output_type": "stream",
     "text": [
      "              precision    recall  f1-score   support\n",
      "\n",
      "      Female       0.97      0.96      0.96       743\n",
      "        Male       0.96      0.97      0.97       758\n",
      "\n",
      "    accuracy                           0.97      1501\n",
      "   macro avg       0.97      0.97      0.97      1501\n",
      "weighted avg       0.97      0.97      0.97      1501\n",
      "\n"
     ]
    }
   ],
   "source": [
    "train, test = train_test_split(q3, test_size=0.3, random_state=123)\n",
    "\n",
    "var_list = q3.columns.drop('gender')\n",
    "\n",
    "logit = LogisticRegression().fit(train[var_list], train['gender'])\n",
    "\n",
    "q3_pred = logit.predict(test[var_list])\n",
    "\n",
    "dir(logit)\n",
    "logit.coef_\n",
    "\n",
    "q3_pred_pr = logit.predict_proba(test[var_list])\n",
    "\n",
    "precision_score(test['gender'], q3_pred, pos_label='Male')\n",
    "\n",
    "print(classification_report(test['gender'], q3_pred))\n",
    "\n",
    "#정답 : 0.96"
   ]
  }
 ],
 "metadata": {
  "interpreter": {
   "hash": "ce8ad003cbacc730e5ae8e25e04f0b81855cad91beef114a29a8b1ddf1550b22"
  },
  "kernelspec": {
   "display_name": "Python 3.9.7 ('base')",
   "language": "python",
   "name": "python3"
  },
  "language_info": {
   "codemirror_mode": {
    "name": "ipython",
    "version": 3
   },
   "file_extension": ".py",
   "mimetype": "text/x-python",
   "name": "python",
   "nbconvert_exporter": "python",
   "pygments_lexer": "ipython3",
   "version": "3.9.7"
  },
  "orig_nbformat": 4
 },
 "nbformat": 4,
 "nbformat_minor": 2
}
