{
 "cells": [
  {
   "cell_type": "markdown",
   "metadata": {},
   "source": [
    "# 문제 08 유형(DataSet_08.csv 이용)\n",
    "\n",
    " 구분자 : comma(“,”), 50 Rows, 5 Columns, UTF-8 인코딩\n",
    "\n",
    " 스타트업 기업들의 수익성에 대한 분석을 하기 위하여 아래와 같은 데이터를 입수하였다\n",
    "\n",
    " \n",
    " 컬 럼 / 정 의 / Type\n",
    " RandD_Spend / 연구개발비 지출 / Double\n",
    " Administration / 운영관리비 지출 / Double\n",
    " Marketing_Spend / 마케팅비 지출 / Double\n",
    " State / 본사 위치 / String\n",
    " Profit / 이익 / Double"
   ]
  },
  {
   "cell_type": "code",
   "execution_count": 1,
   "metadata": {},
   "outputs": [],
   "source": [
    "import pandas as pd\n",
    "\n",
    "data8=pd.read_csv('C:/Users/joey0/CodeStudy/proDS/Dataset/Dataset_08.csv')"
   ]
  },
  {
   "cell_type": "markdown",
   "metadata": {},
   "source": [
    "## 1.각 주(State)별 데이터 구성비를 소수점 둘째 자리까지 구하고, 알파벳 순으로 기술하시오(주 이름 기준)."
   ]
  },
  {
   "cell_type": "code",
   "execution_count": 2,
   "metadata": {},
   "outputs": [
    {
     "data": {
      "text/plain": [
       "Index(['RandD_Spend', 'Administration', 'Marketing_Spend', 'State', 'Profit'], dtype='object')"
      ]
     },
     "execution_count": 2,
     "metadata": {},
     "output_type": "execute_result"
    }
   ],
   "source": [
    "data8.columns"
   ]
  },
  {
   "cell_type": "code",
   "execution_count": 3,
   "metadata": {},
   "outputs": [
    {
     "data": {
      "text/plain": [
       "array([0.34, 0.32, 0.34])"
      ]
     },
     "execution_count": 3,
     "metadata": {},
     "output_type": "execute_result"
    }
   ],
   "source": [
    "data8['State'].value_counts(normalize=True).sort_index().values\n",
    "\n",
    "#정답 : [0.34, 0.32, 0.34]"
   ]
  },
  {
   "cell_type": "markdown",
   "metadata": {},
   "source": [
    "## 2.주별 이익의 평균을 구하고, 평균 이익이 가장 큰 주와 작은 주의 차이를 구하시오. 차이값은 소수점 이하는 버리고 정수부분만 기술하시오."
   ]
  },
  {
   "cell_type": "code",
   "execution_count": 4,
   "metadata": {},
   "outputs": [
    {
     "data": {
      "text/plain": [
       "Profit    14868.849081\n",
       "dtype: float64"
      ]
     },
     "execution_count": 4,
     "metadata": {},
     "output_type": "execute_result"
    }
   ],
   "source": [
    "q2=data8.copy()\n",
    "\n",
    "q2_tab=pd.pivot_table(data=q2,\n",
    "               index='State',\n",
    "               values='Profit')\n",
    "\n",
    "q2_tab.max() - q2_tab.min()\n",
    "\n",
    "#정답 : 14868"
   ]
  },
  {
   "cell_type": "markdown",
   "metadata": {},
   "source": [
    "## 3.독립변수로 RandD_Spend, Administration, Marketing_Spend를 사용하여 Profit을 주별로 예측하는 회귀 모형을 만들고, 이 회귀모형을 사용하여 학습오차를 산출하시오.\n",
    " - 주별로 계산된 학습오차 중 MAPE 기준으로 가장 낮은 오차를 보이는 주는 어느 주이고 그 값은 무엇인가? (반올림하여 소수점 둘째 자리까지 기술하시오)\n",
    " - (MAPE = Σ ( | y - y ̂ | / y ) * 100/n )"
   ]
  },
  {
   "cell_type": "code",
   "execution_count": 6,
   "metadata": {},
   "outputs": [],
   "source": [
    "from sklearn.linear_model import LinearRegression\n",
    "\n",
    "q3=data8.copy()\n",
    "q3.columns\n",
    "x_var=['RandD_Spend', 'Administration', 'Marketing_Spend']\n",
    "state_list=q3.State.unique()\n",
    "\n",
    "q3_out=[]\n",
    "for i in state_list:\n",
    "    temp=q3[q3.State == i]\n",
    "    lm=LinearRegression().fit(temp[x_var], temp['Profit'])\n",
    "    pred=lm.predict(temp[x_var])\n",
    "    # MAPE = Σ ( | y - y ̂ | / y ) * 100/n \n",
    "    mape=(abs(temp['Profit'] - pred) / temp['Profit']).sum() * 100 / len(temp)\n",
    "\n",
    "    q3_out.append([i, mape])"
   ]
  },
  {
   "cell_type": "code",
   "execution_count": 8,
   "metadata": {},
   "outputs": [
    {
     "data": {
      "text/html": [
       "<div>\n",
       "<style scoped>\n",
       "    .dataframe tbody tr th:only-of-type {\n",
       "        vertical-align: middle;\n",
       "    }\n",
       "\n",
       "    .dataframe tbody tr th {\n",
       "        vertical-align: top;\n",
       "    }\n",
       "\n",
       "    .dataframe thead th {\n",
       "        text-align: right;\n",
       "    }\n",
       "</style>\n",
       "<table border=\"1\" class=\"dataframe\">\n",
       "  <thead>\n",
       "    <tr style=\"text-align: right;\">\n",
       "      <th></th>\n",
       "      <th>var</th>\n",
       "      <th>mape</th>\n",
       "    </tr>\n",
       "  </thead>\n",
       "  <tbody>\n",
       "    <tr>\n",
       "      <th>2</th>\n",
       "      <td>Florida</td>\n",
       "      <td>5.706713</td>\n",
       "    </tr>\n",
       "  </tbody>\n",
       "</table>\n",
       "</div>"
      ],
      "text/plain": [
       "       var      mape\n",
       "2  Florida  5.706713"
      ]
     },
     "execution_count": 8,
     "metadata": {},
     "output_type": "execute_result"
    }
   ],
   "source": [
    "q3_out=pd.DataFrame(q3_out, columns=['var', 'mape'])\n",
    "\n",
    "q3_out.sort_values(by='mape', ascending=True).head(1)\n",
    "\n",
    "#정답 : Florida, 5.71"
   ]
  }
 ],
 "metadata": {
  "interpreter": {
   "hash": "ce8ad003cbacc730e5ae8e25e04f0b81855cad91beef114a29a8b1ddf1550b22"
  },
  "kernelspec": {
   "display_name": "Python 3.9.7 ('base')",
   "language": "python",
   "name": "python3"
  },
  "language_info": {
   "codemirror_mode": {
    "name": "ipython",
    "version": 3
   },
   "file_extension": ".py",
   "mimetype": "text/x-python",
   "name": "python",
   "nbconvert_exporter": "python",
   "pygments_lexer": "ipython3",
   "version": "3.9.7"
  },
  "orig_nbformat": 4
 },
 "nbformat": 4,
 "nbformat_minor": 2
}
