{
 "cells": [
  {
   "cell_type": "markdown",
   "metadata": {},
   "source": [
    "# 문제 06 유형(DataSet_06.csv 이용)\n",
    "\n",
    " 구분자 : comma(“,”), 4,323 Rows, 19 Columns, UTF-8 인코딩\n",
    "\n",
    " 주택 관련 정보를 바탕으로 주택 가격을 예측해 보고자 한다. \n",
    " 다음은 확보한 주택 관련 데이터로 총 19개 컬럼으로 구성되어있다.\n",
    "\n",
    " 컬 럼 / 정 의 / Type\n",
    " id / 매물 번호 / Double\n",
    " date / 날짜 / String\n",
    " price / 거래 가격 / Double\n",
    " bedrooms / 방 개수 / Double\n",
    " bathrooms / 화장실 개수 (화장실은 있으나 샤워기 없는 경우 0.5로 처리) / Double\n",
    " sqft_living / 건축물 면적 / Double\n",
    " sqft_lot / 대지 면적 / Double\n",
    " floors / 건축물의 층수 / Double\n",
    " waterfront / 강변 조망 가능 여부 (0 / 1) / Double\n",
    " view / 경관 (나쁨에서 좋음으로 0 ~ 4로 표시) / Double\n",
    " condition / 관리 상태 (나쁨에서 좋음으로 1 ~ 5로 표시) / Double\n",
    " grade / 등급 (낮음에서 높음으로 1 ~ 13으로 표시) / Double\n",
    " sqft_above / 지상 면적 / Double\n",
    " sqft_basement / 지하실 면적 / Double\n",
    " yr_built / 건축 연도 / Double\n",
    " yr_renovated / 개축 연도 / Double\n",
    " zipcode / 우편번호 / Double\n",
    " sqft_living15 / 15개의 인근 주택의 평균 건물 면적 / Double\n",
    " sqft_lot15 / 15개의 인근 주택의 평균 대지 면적 / Double"
   ]
  },
  {
   "cell_type": "code",
   "execution_count": 1,
   "metadata": {},
   "outputs": [
    {
     "data": {
      "text/plain": [
       "Index(['id', 'date', 'price', 'bedrooms', 'bathrooms', 'sqft_living',\n",
       "       'sqft_lot', 'floors', 'waterfront', 'view', 'condition', 'grade',\n",
       "       'sqft_above', 'sqft_basement', 'yr_built', 'yr_renovated', 'zipcode',\n",
       "       'sqft_living15', 'sqft_lot15'],\n",
       "      dtype='object')"
      ]
     },
     "execution_count": 1,
     "metadata": {},
     "output_type": "execute_result"
    }
   ],
   "source": [
    "import pandas as pd\n",
    "import numpy as np\n",
    "\n",
    "data06 = pd.read_csv('C:/Users/joey0/CodeStudy/proDS/Dataset/Dataset_06.csv')\n",
    "\n",
    "data06.columns"
   ]
  },
  {
   "cell_type": "markdown",
   "metadata": {},
   "source": [
    "## 1.강변 조망이 가능한지 여부(waterfront)에 따라 평균 주택 가격을 계산하고 조망이 가능한 경우와 그렇지 않은 경우의 평균 가격 차이의 절대값을 구하시오. 답은 소수점 이하는 버리고 정수부만 기술하시오."
   ]
  },
  {
   "cell_type": "code",
   "execution_count": 2,
   "metadata": {},
   "outputs": [
    {
     "data": {
      "text/plain": [
       "1167272.748018648"
      ]
     },
     "execution_count": 2,
     "metadata": {},
     "output_type": "execute_result"
    }
   ],
   "source": [
    "q1_0 = data06[data06.waterfront == 0]['price'].mean()\n",
    "q1_1 = data06[data06.waterfront == 1]['price'].mean()\n",
    "\n",
    "abs(q1_0 - q1_1)\n",
    "\n",
    "#정답 : 1167272"
   ]
  },
  {
   "cell_type": "markdown",
   "metadata": {},
   "source": [
    "## 2.price, bedrooms, bathrooms, sqft_living, sqft_lot, floors, yr_built 등 7개의 변수 간의 상관분석을 수행하고 price와의 상관계수의 절대값이 가장 큰 변수와 가장 작은 변수를 차례로 기술하시오."
   ]
  },
  {
   "cell_type": "code",
   "execution_count": 3,
   "metadata": {},
   "outputs": [
    {
     "data": {
      "text/plain": [
       "'yr_built'"
      ]
     },
     "execution_count": 3,
     "metadata": {},
     "output_type": "execute_result"
    }
   ],
   "source": [
    "var_list = ['price', 'bedrooms', 'bathrooms', 'sqft_living', 'sqft_lot', 'floors','yr_built' ]\n",
    "\n",
    "q2 = data06[var_list].corr().drop('price')['price']\n",
    "\n",
    "q2.abs().idxmax() #sqft_living\n",
    "q2.abs().idxmin() #yr_built\n",
    "\n",
    "#정답 : sqft_living, yr_built"
   ]
  },
  {
   "cell_type": "markdown",
   "metadata": {},
   "source": [
    "## 3. id, date, 그리고 zipcode를 제외한 모든 변수를 독립변수로, price를 종속변수로 하여회귀분석을 수행하시오. 통계적 유의성을 갖지 못하는 독립변수를 제거하면 회귀모형에 남는 변수는 모두몇 개인가? 이 때 음의 회귀계수를 가지는 변수는 몇 개인가?"
   ]
  },
  {
   "cell_type": "code",
   "execution_count": 5,
   "metadata": {},
   "outputs": [
    {
     "data": {
      "text/plain": [
       "13"
      ]
     },
     "execution_count": 5,
     "metadata": {},
     "output_type": "execute_result"
    }
   ],
   "source": [
    "var_list = data06.columns.drop(['id', 'date', 'zipcode', 'price'])\n",
    "\n",
    "from statsmodels.formula.api import ols\n",
    "\n",
    "form = 'price~' + '+'.join(var_list)\n",
    "\n",
    "lm = ols(form, data=data06).fit()\n",
    "\n",
    "q3_out = lm.pvalues.drop('Intercept') < 0.05\n",
    "\n",
    "q3_out.sum()"
   ]
  },
  {
   "cell_type": "code",
   "execution_count": 6,
   "metadata": {},
   "outputs": [
    {
     "data": {
      "text/plain": [
       "2"
      ]
     },
     "execution_count": 6,
     "metadata": {},
     "output_type": "execute_result"
    }
   ],
   "source": [
    "#유의한 변수 중에 음수인 회귀계수 수\n",
    "lm.params.drop('Intercept')\n",
    "lm.params.drop('Intercept')[q3_out] < 0\n",
    "(lm.params.drop('Intercept')[q3_out] < 0).sum()\n",
    "\n",
    "#정답 : 2"
   ]
  }
 ],
 "metadata": {
  "interpreter": {
   "hash": "ce8ad003cbacc730e5ae8e25e04f0b81855cad91beef114a29a8b1ddf1550b22"
  },
  "kernelspec": {
   "display_name": "Python 3.9.7 ('base')",
   "language": "python",
   "name": "python3"
  },
  "language_info": {
   "codemirror_mode": {
    "name": "ipython",
    "version": 3
   },
   "file_extension": ".py",
   "mimetype": "text/x-python",
   "name": "python",
   "nbconvert_exporter": "python",
   "pygments_lexer": "ipython3",
   "version": "3.9.7"
  },
  "orig_nbformat": 4
 },
 "nbformat": 4,
 "nbformat_minor": 2
}
