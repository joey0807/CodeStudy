{
 "cells": [
  {
   "cell_type": "markdown",
   "metadata": {},
   "source": [
    "# 6006\n",
    "- \"!@#$%^&*()' 출력"
   ]
  },
  {
   "cell_type": "code",
   "execution_count": 1,
   "metadata": {},
   "outputs": [
    {
     "name": "stdout",
     "output_type": "stream",
     "text": [
      "\"!@#$%^&*()'\n"
     ]
    }
   ],
   "source": [
    "#특수문자를 출력하려면 \\를 이용해 문자열 따옴표와 구분 해줘야 함\n",
    "print('\"!@#$%^&*()\\'')"
   ]
  },
  {
   "cell_type": "markdown",
   "metadata": {},
   "source": [
    "# 6007\n",
    "- \"C:\\Download\\'hello'.py\" 출력, 따옴표도 함꼐 출력"
   ]
  },
  {
   "cell_type": "code",
   "execution_count": 2,
   "metadata": {},
   "outputs": [
    {
     "name": "stdout",
     "output_type": "stream",
     "text": [
      "\"C:\\Download\\'hello'.py\"\n"
     ]
    }
   ],
   "source": [
    "#6006이랑 같은 맥락 - \\로 특수문자 구분\n",
    "print('\"C:\\Download\\\\\\'hello\\'.py\"')"
   ]
  },
  {
   "cell_type": "markdown",
   "metadata": {},
   "source": [
    "# 6009 \n",
    "- 정수로 변환해서 출력"
   ]
  },
  {
   "cell_type": "code",
   "execution_count": 19,
   "metadata": {},
   "outputs": [
    {
     "name": "stdout",
     "output_type": "stream",
     "text": [
      "10\n"
     ]
    }
   ],
   "source": [
    "#기본\n",
    "# n = input()\n",
    "# n = int(n)\n",
    "# print(n)\n",
    "\n",
    "#번거롭게 줄 나누지 말고 한번에 출력하는 법\n",
    "n = int(input())\n",
    "print(n)"
   ]
  },
  {
   "cell_type": "markdown",
   "metadata": {},
   "source": [
    "# 6015\n",
    "- 정수 2개를 입력받고 그대로 출력하는 방법"
   ]
  },
  {
   "cell_type": "code",
   "execution_count": 7,
   "metadata": {},
   "outputs": [
    {
     "name": "stdout",
     "output_type": "stream",
     "text": [
      "10\n",
      "20\n"
     ]
    }
   ],
   "source": [
    "#split()으로 구분하고, 두 정수 구분은 기본값은 공백으로 구분\n",
    "a, b = input().split()\n",
    "print(a)\n",
    "print(b)"
   ]
  },
  {
   "cell_type": "markdown",
   "metadata": {},
   "source": [
    "# 6018\n",
    "- ':'로 입력값을 분할하는 방법"
   ]
  },
  {
   "cell_type": "code",
   "execution_count": 8,
   "metadata": {},
   "outputs": [
    {
     "name": "stdout",
     "output_type": "stream",
     "text": [
      "10:28\n"
     ]
    }
   ],
   "source": [
    "#split()으로 구분하고, 'sep='으로 분할해서 출력\n",
    "time, minute = input().split(':')\n",
    "print(time, minute, sep=':')"
   ]
  },
  {
   "cell_type": "markdown",
   "metadata": {},
   "source": [
    "# 6019\n",
    "- 연월일 입력받아 일월연으로 순서 바꿔 출력"
   ]
  },
  {
   "cell_type": "code",
   "execution_count": 17,
   "metadata": {},
   "outputs": [
    {
     "name": "stdout",
     "output_type": "stream",
     "text": [
      "28-12-2021\n",
      "28-12-2021\n",
      "28-12-2021\n"
     ]
    }
   ],
   "source": [
    "y, m, d = input().split('.')\n",
    "print(d,m,y,sep='-')\n",
    "\n",
    "#fstring을 쓴다면\n",
    "print(f'{d}-{m}-{y}')\n",
    "\n",
    "#format을 쓴다면\n",
    "print('{}-{}-{}'.format(d,m,y))"
   ]
  },
  {
   "cell_type": "markdown",
   "metadata": {},
   "source": [
    "# 6020"
   ]
  },
  {
   "cell_type": "code",
   "execution_count": 11,
   "metadata": {},
   "outputs": [
    {
     "name": "stdout",
     "output_type": "stream",
     "text": [
      "9608071234567\n"
     ]
    }
   ],
   "source": [
    "#아무것도 없는 빈 문자는 작은따옴표를 2개 붙임\n",
    "a, b = input().split('-')\n",
    "print(a,b,sep=\"\")\n",
    "#print(a,b) -> 그냥 출력하면 두 수 사이에 공백 생김"
   ]
  },
  {
   "cell_type": "markdown",
   "metadata": {},
   "source": [
    "# 6021\n",
    "- 단어 입력받아서 나눠서 출력하기\n",
    "- 5개의 문자로 이루어진 단어가 입력됨"
   ]
  },
  {
   "cell_type": "code",
   "execution_count": 25,
   "metadata": {},
   "outputs": [
    {
     "name": "stdout",
     "output_type": "stream",
     "text": [
      "H\n",
      "e\n",
      "l\n",
      "l\n",
      "o\n"
     ]
    }
   ],
   "source": [
    "strs = 'Hello'\n",
    "print(strs[0])\n",
    "print(strs[1])\n",
    "print(strs[2])\n",
    "print(strs[3])\n",
    "print(strs[4])"
   ]
  },
  {
   "cell_type": "code",
   "execution_count": 26,
   "metadata": {},
   "outputs": [
    {
     "name": "stdout",
     "output_type": "stream",
     "text": [
      "H\n",
      "e\n",
      "l\n",
      "l\n",
      "o\n"
     ]
    }
   ],
   "source": [
    "#문자열도 이터레이블 객체이므로 unpaking이 가능\n",
    "print(*strs, sep='\\n')"
   ]
  },
  {
   "cell_type": "markdown",
   "metadata": {},
   "source": [
    "# 6022\n",
    "- 연월일을 입력받아 나눠서 출력하기"
   ]
  },
  {
   "cell_type": "code",
   "execution_count": 30,
   "metadata": {},
   "outputs": [
    {
     "name": "stdout",
     "output_type": "stream",
     "text": [
      "21 12 28\n"
     ]
    }
   ],
   "source": [
    "day = input()\n",
    "#처음과 끝은 적당히 생략 가능\n",
    "print(day[:2],day[2:4],day[4:])"
   ]
  },
  {
   "cell_type": "markdown",
   "metadata": {},
   "source": [
    "# 6027\n",
    "- 10진 정수를 16진수로 출력\n",
    "- 파이썬에서는 hex()함수를 이용하면 됨\n",
    "- 문자열 포맷팅(fstring, format)을 이용해서도 출력 가능"
   ]
  },
  {
   "cell_type": "code",
   "execution_count": 38,
   "metadata": {},
   "outputs": [
    {
     "name": "stdout",
     "output_type": "stream",
     "text": [
      "ff\n",
      "ff\n",
      "ff\n"
     ]
    }
   ],
   "source": [
    "a = int(input())\n",
    "\n",
    "print('%x'%a)#오래된 방법\n",
    "print(hex(a)[2:])#숫자 앞의 0x 처리\n",
    "print(f'{a:x}')"
   ]
  },
  {
   "cell_type": "markdown",
   "metadata": {},
   "source": [
    "# 6028\n",
    "- 6027과 동일\n",
    "- 16진수를 대문자로 출력"
   ]
  },
  {
   "cell_type": "code",
   "execution_count": 39,
   "metadata": {},
   "outputs": [
    {
     "name": "stdout",
     "output_type": "stream",
     "text": [
      "FF\n",
      "FF\n",
      "FF\n"
     ]
    }
   ],
   "source": [
    "a = int(input())\n",
    "\n",
    "print('%X'%a)#x를 대문자로\n",
    "print(hex(a)[2:].upper())#upper()함수 사용\n",
    "print(f'{a:X}')#이것도 x를 대문자로"
   ]
  },
  {
   "cell_type": "markdown",
   "metadata": {},
   "source": [
    "# 6029\n",
    "- 16진수를 8진수로 출력\n",
    "- 8진수로 변환할 때는 oct()함수를 사용\n",
    "- 문자열 포멧팅(fstring, format)을 사용할 때는 'o'를 사용"
   ]
  },
  {
   "cell_type": "code",
   "execution_count": 43,
   "metadata": {},
   "outputs": [
    {
     "name": "stdout",
     "output_type": "stream",
     "text": [
      "17\n",
      "17\n",
      "17\n"
     ]
    }
   ],
   "source": [
    "a = int(input(), base=16)#10진수를 16진수로 인식\n",
    "\n",
    "print('%o'%a)\n",
    "print(oct(a)[2:])\n",
    "print(f'{a:o}')"
   ]
  },
  {
   "cell_type": "markdown",
   "metadata": {},
   "source": [
    "# 6030\n",
    "- 영문자 1개를 입력받아 10진수(아스키코드값)로 변환\n",
    "- ord()함수 사용"
   ]
  },
  {
   "cell_type": "code",
   "execution_count": 44,
   "metadata": {},
   "outputs": [
    {
     "name": "stdout",
     "output_type": "stream",
     "text": [
      "65\n"
     ]
    }
   ],
   "source": [
    "a = ord(input())\n",
    "print(a)\n",
    "\n",
    "#서순으로 이렇게도 되네\n",
    "# a = input()\n",
    "# print(ord(a))"
   ]
  },
  {
   "cell_type": "markdown",
   "metadata": {},
   "source": [
    "# 6031\n",
    "- 정수를 입력받아서 유니코드 문자로 변환\n",
    "- chr()함수 사용"
   ]
  },
  {
   "cell_type": "code",
   "execution_count": 5,
   "metadata": {},
   "outputs": [
    {
     "name": "stdout",
     "output_type": "stream",
     "text": [
      "A\n"
     ]
    }
   ],
   "source": [
    "a = int(input())\n",
    "print(chr(a))"
   ]
  },
  {
   "cell_type": "markdown",
   "metadata": {},
   "source": [
    "# 6033\n",
    "- 문자 1개를 입력받아 그 다음 문자를 출력"
   ]
  },
  {
   "cell_type": "code",
   "execution_count": 1,
   "metadata": {},
   "outputs": [
    {
     "name": "stdout",
     "output_type": "stream",
     "text": [
      "b\n"
     ]
    }
   ],
   "source": [
    "n = ord(input())\n",
    "\n",
    "print(chr(n+1))\n"
   ]
  },
  {
   "cell_type": "markdown",
   "metadata": {},
   "source": [
    "# 6043\n",
    "- 실수 2개를 입력받아 나눈 결과 계산\n",
    "- 소숫점 넷째자리에서 반올림하여 무조건 소숫점 셋째 자리까지 출력"
   ]
  },
  {
   "cell_type": "code",
   "execution_count": 2,
   "metadata": {},
   "outputs": [
    {
     "name": "stdout",
     "output_type": "stream",
     "text": [
      "0.600\n"
     ]
    }
   ],
   "source": [
    "a, b = input().split()\n",
    "c = float(a)/float(b)\n",
    "\n",
    "print(format(c,'.3f'))"
   ]
  },
  {
   "cell_type": "markdown",
   "metadata": {},
   "source": [
    "# 6044\n",
    "- 정수 2개(a,b)를 입력받아 합, 차, 곱, 몫, 나머지, 나눈 값을 계산\n",
    "- 단, b는 0이 아님"
   ]
  },
  {
   "cell_type": "code",
   "execution_count": 3,
   "metadata": {},
   "outputs": [
    {
     "name": "stdout",
     "output_type": "stream",
     "text": [
      "9\n",
      "1\n",
      "20\n",
      "1\n",
      "1\n",
      "1.25\n"
     ]
    }
   ],
   "source": [
    "a,b=map(int,input().split())\n",
    "\n",
    "print(a+b)\n",
    "print(a-b)\n",
    "print(a*b)\n",
    "print(a//b)\n",
    "print(a%b)\n",
    "print(format(a/b,'.2f'))"
   ]
  },
  {
   "cell_type": "markdown",
   "metadata": {},
   "source": [
    "# 6045\n",
    "- 정수 3개를 입력받아 합과 평균을 출력\n",
    "- 합과 평균을 공백을 두고 출력\n",
    "- 평균은 소숫점 이하 셋째 자리에서 반올림하여 둘째 자리까지 출력"
   ]
  },
  {
   "cell_type": "code",
   "execution_count": 5,
   "metadata": {},
   "outputs": [
    {
     "name": "stdout",
     "output_type": "stream",
     "text": [
      "6 2.00\n"
     ]
    }
   ],
   "source": [
    "a,b,c = map(int,input().split())\n",
    "sum = a+b+c\n",
    "print(sum, format(sum/3,'.2f'))"
   ]
  },
  {
   "cell_type": "markdown",
   "metadata": {},
   "source": [
    "# 6069\n",
    "- 평가를 문자(A,B,C,D,...)로 입력받아 내용을 다르게 출력\n",
    "- A : best!!!\n",
    "- B : good!!!\n",
    "- C : run!\n",
    "- D : slowly~\n",
    "- 나머지 문자들 : what?"
   ]
  },
  {
   "cell_type": "code",
   "execution_count": 6,
   "metadata": {},
   "outputs": [
    {
     "name": "stdout",
     "output_type": "stream",
     "text": [
      "best!!!\n"
     ]
    }
   ],
   "source": [
    "a = input()\n",
    "\n",
    "if(a=='A'):\n",
    "  print('best!!!')\n",
    "elif(a=='B'):\n",
    "  print('good!!')\n",
    "elif(a=='C'):\n",
    "  print('run!')\n",
    "elif(a=='D'):\n",
    "  print('slowly~')\n",
    "else:\n",
    "  print('what?')"
   ]
  },
  {
   "cell_type": "markdown",
   "metadata": {},
   "source": [
    "# 6077\n",
    "- 정수(1~100) 1개를 입력받아 1부터 그 수까지 짝수의 합을 구하기"
   ]
  },
  {
   "cell_type": "code",
   "execution_count": 7,
   "metadata": {},
   "outputs": [
    {
     "name": "stdout",
     "output_type": "stream",
     "text": [
      "30\n"
     ]
    }
   ],
   "source": [
    "n = int(input())\n",
    "sum=0\n",
    "for i in range(n+1):\n",
    "  if(i%2==0):\n",
    "    sum+=i\n",
    "\n",
    "print(sum)"
   ]
  },
  {
   "cell_type": "markdown",
   "metadata": {},
   "source": [
    "# 6078\n",
    "- 영문 소문자 'q'가 입력될 때 까지 입력한 문자를 계속 출력"
   ]
  },
  {
   "cell_type": "code",
   "execution_count": 8,
   "metadata": {},
   "outputs": [
    {
     "name": "stdout",
     "output_type": "stream",
     "text": [
      "a\n",
      "b\n",
      "q\n"
     ]
    }
   ],
   "source": [
    "c=ord('a')\n",
    "t=ord('q')\n",
    "while c!=t:\n",
    "  c = ord(input())\n",
    "  if c!=t:\n",
    "    print(chr(c))\n",
    "  else:\n",
    "    print(chr(c))\n",
    "    break"
   ]
  },
  {
   "cell_type": "markdown",
   "metadata": {},
   "source": [
    "# 6079\n",
    "- 1,2,3,...을 계속 더해 나갈 때, 그 합이 입력한 정수보다 같거나 작을 때 까지만 계속 더함"
   ]
  },
  {
   "cell_type": "code",
   "execution_count": 10,
   "metadata": {},
   "outputs": [
    {
     "name": "stdout",
     "output_type": "stream",
     "text": [
      "10\n"
     ]
    }
   ],
   "source": [
    "sum = int(input())\n",
    "n=0\n",
    "a=0\n",
    "while n<sum:\n",
    "  a += 1\n",
    "  n+=a\n",
    "\n",
    "print(a)"
   ]
  },
  {
   "cell_type": "markdown",
   "metadata": {},
   "source": [
    "# 6081\n",
    "- 16진수 구구단 출력\n",
    "- A,B,C,D,E,F 중 하나가 입력될 때, 1부터 F까지 곱한 16진수 구구단의 내용 출력"
   ]
  },
  {
   "cell_type": "code",
   "execution_count": 11,
   "metadata": {},
   "outputs": [
    {
     "name": "stdout",
     "output_type": "stream",
     "text": [
      "A*1=A\n",
      "A*2=14\n",
      "A*3=1E\n",
      "A*4=28\n",
      "A*5=32\n",
      "A*6=3C\n",
      "A*7=46\n",
      "A*8=50\n",
      "A*9=5A\n",
      "A*A=64\n",
      "A*B=6E\n",
      "A*C=78\n",
      "A*D=82\n",
      "A*E=8C\n",
      "A*F=96\n"
     ]
    }
   ],
   "source": [
    "a = input()\n",
    "n = int(a,16)\n",
    "for i in range(1,16):\n",
    "  print('%X'%n, '*%X'%i, '=%X'%(n*i), sep='')"
   ]
  },
  {
   "cell_type": "markdown",
   "metadata": {},
   "source": [
    "# 6082\n",
    "- 3 6 9 게임 프로그램\n",
    "- 30보다 작은 정수 1개 입력\n",
    "- 1부터 그 수까지 순서대로 공백을 두고 출력, 3 또는 6 또는 9가 포함되어 있는 경우 그 수 대신 X 출력"
   ]
  },
  {
   "cell_type": "code",
   "execution_count": 12,
   "metadata": {},
   "outputs": [
    {
     "name": "stdout",
     "output_type": "stream",
     "text": [
      "1 2 X 4 5 X 7 8 X 10 "
     ]
    }
   ],
   "source": [
    "n = int(input())\n",
    "\n",
    "for i in range(1,n+1):\n",
    "  if(i%10==3):\n",
    "    print('X',end=' ')\n",
    "  elif(i%10==6):\n",
    "    print('X',end=' ')\n",
    "  elif(i%10==9):\n",
    "    print('X',end=' ')\n",
    "  else:\n",
    "    print(i,end=' ') "
   ]
  },
  {
   "cell_type": "markdown",
   "metadata": {},
   "source": [
    "# 6083\n",
    "- 빛 섞어 색 만들기\n",
    "- 빨강(r), 초록(g), 파랑(b) 각 빛의 가짓수가 주어질 때, 주어진 빛들을 썩어 만들 수 있는 모든 경우의 조합과 만들 수 있는 색의 가짓 수 계산 "
   ]
  },
  {
   "cell_type": "code",
   "execution_count": 13,
   "metadata": {},
   "outputs": [
    {
     "name": "stdout",
     "output_type": "stream",
     "text": [
      "0 0 0\n",
      "0 0 1\n",
      "0 1 0\n",
      "0 1 1\n",
      "1 0 0\n",
      "1 0 1\n",
      "1 1 0\n",
      "1 1 1\n",
      "8\n"
     ]
    }
   ],
   "source": [
    "r,g,b = map(int, input().split())\n",
    "n=0\n",
    "for i in range(r):\n",
    "  for j in range(g):\n",
    "    for k in range(b):\n",
    "      print(i,j,k)\n",
    "      n+=1\n",
    "\n",
    "print(n)"
   ]
  },
  {
   "cell_type": "markdown",
   "metadata": {},
   "source": [
    "# 6085\n",
    "- 그림 파일 저장용량 계산하기\n",
    "- w, h, b가 공백을 두고 입력\n",
    "- 필요한 저장 공간을 MB 단위로 바꾸어 출력, 소수점 셋째 자리에서 반올림하여 둘째자리까지 출력"
   ]
  },
  {
   "cell_type": "code",
   "execution_count": 14,
   "metadata": {},
   "outputs": [
    {
     "name": "stdout",
     "output_type": "stream",
     "text": [
      "2.25 MB\n"
     ]
    }
   ],
   "source": [
    "w,h,b = map(int,input().split())\n",
    "\n",
    "print(format(w*h*b/8/1024/1024,'.2f')+' MB')"
   ]
  },
  {
   "cell_type": "markdown",
   "metadata": {},
   "source": [
    "# 6095\n",
    "- 바둑판에 흰 돌 놓기\n",
    "- 바둑판에 올려 놓을 흰 돌의 개수(n)가 첫 줄에 입력\n",
    "- 둘째 줄 부터 n+1번째 줄까지 흰 돌을 놓을 좌표(x,y)가 n줄 입력\n",
    "- n은 10 이하의 자연수, x,y 좌표는 1~19까지, 똑같은 좌표는 입력되지 않음\n",
    "- 흰 돌이 올려진 위치는 1, 없는 곳은 0으로 출력"
   ]
  },
  {
   "cell_type": "code",
   "execution_count": 15,
   "metadata": {},
   "outputs": [
    {
     "name": "stdout",
     "output_type": "stream",
     "text": [
      "1 0 0 0 0 0 0 0 0 0 0 0 0 0 0 0 0 0 0 \n",
      "0 1 0 0 0 0 0 0 0 0 0 0 0 0 0 0 0 0 0 \n",
      "0 0 1 0 0 0 0 0 0 0 0 0 0 0 0 0 0 0 0 \n",
      "0 0 0 1 0 0 0 0 0 0 0 0 0 0 0 0 0 0 0 \n",
      "0 0 0 0 1 0 0 0 0 0 0 0 0 0 0 0 0 0 0 \n",
      "0 0 0 0 0 0 0 0 0 0 0 0 0 0 0 0 0 0 0 \n",
      "0 0 0 0 0 0 0 0 0 0 0 0 0 0 0 0 0 0 0 \n",
      "0 0 0 0 0 0 0 0 0 0 0 0 0 0 0 0 0 0 0 \n",
      "0 0 0 0 0 0 0 0 0 0 0 0 0 0 0 0 0 0 0 \n",
      "0 0 0 0 0 0 0 0 0 0 0 0 0 0 0 0 0 0 0 \n",
      "0 0 0 0 0 0 0 0 0 0 0 0 0 0 0 0 0 0 0 \n",
      "0 0 0 0 0 0 0 0 0 0 0 0 0 0 0 0 0 0 0 \n",
      "0 0 0 0 0 0 0 0 0 0 0 0 0 0 0 0 0 0 0 \n",
      "0 0 0 0 0 0 0 0 0 0 0 0 0 0 0 0 0 0 0 \n",
      "0 0 0 0 0 0 0 0 0 0 0 0 0 0 0 0 0 0 0 \n",
      "0 0 0 0 0 0 0 0 0 0 0 0 0 0 0 0 0 0 0 \n",
      "0 0 0 0 0 0 0 0 0 0 0 0 0 0 0 0 0 0 0 \n",
      "0 0 0 0 0 0 0 0 0 0 0 0 0 0 0 0 0 0 0 \n",
      "0 0 0 0 0 0 0 0 0 0 0 0 0 0 0 0 0 0 0 \n"
     ]
    }
   ],
   "source": [
    "a = [[0]*19 for _ in range(19)] #일일히 치지 않고 만드는 방법\n",
    "\n",
    "n = int(input())\n",
    "for _ in range(n):\n",
    "  x,y = map(int,input().split())\n",
    "  a[x-1][y-1] = 1 #인덱스 번호 때문에 보정 작업\n",
    "\n",
    "for row in a:\n",
    "  for col in row:\n",
    "    print(col,end=' ')\n",
    "  print() #행렬 모양으로 출력하는 방법"
   ]
  },
  {
   "cell_type": "markdown",
   "metadata": {},
   "source": [
    "# 6096\n",
    "- 바둑알 십자 뒤집기\n",
    "- 바둑알이 깔려있는 상황이 19*19 크기의 정수값으로 입력\n",
    "- 십자 뒤집기 횟수(n) 입력\n",
    "- 십자 뒤집기 좌표가 횟수(n)만큼 입력, n은 10 이하의 자연수"
   ]
  },
  {
   "cell_type": "code",
   "execution_count": 17,
   "metadata": {},
   "outputs": [
    {
     "name": "stdout",
     "output_type": "stream",
     "text": [
      "0 0 0 0 0 0 0 0 0 0 0 0 0 0 0 0 0 0 0 \n",
      "0 0 0 0 0 0 0 0 0 0 0 0 0 0 0 0 0 0 0 \n",
      "0 0 0 0 0 0 0 0 0 0 0 0 0 0 0 0 0 0 0 \n",
      "0 0 0 0 0 0 0 0 0 0 0 0 0 0 0 0 0 0 0 \n",
      "0 0 0 0 0 0 0 0 0 0 0 0 0 0 0 0 0 0 0 \n",
      "0 0 0 0 0 0 0 0 0 0 0 0 0 0 0 0 0 0 0 \n",
      "0 0 0 0 0 0 0 0 0 0 0 0 0 0 0 0 0 0 0 \n",
      "0 0 0 0 0 0 0 0 0 0 0 0 0 0 0 0 0 0 0 \n",
      "0 0 0 0 0 0 0 0 0 0 0 0 0 0 0 0 0 0 0 \n",
      "0 0 0 0 0 0 0 0 0 1 0 1 0 0 0 0 0 0 0 \n",
      "0 0 0 0 0 0 0 0 0 0 0 0 0 0 0 0 0 0 0 \n",
      "0 0 0 0 0 0 0 0 0 1 0 1 0 0 0 0 0 0 0 \n",
      "0 0 0 0 0 0 0 0 0 0 0 0 0 0 0 0 0 0 0 \n",
      "0 0 0 0 0 0 0 0 0 0 0 0 0 0 0 0 0 0 0 \n",
      "0 0 0 0 0 0 0 0 0 0 0 0 0 0 0 0 0 0 0 \n",
      "0 0 0 0 0 0 0 0 0 0 0 0 0 0 0 0 0 0 0 \n",
      "0 0 0 0 0 0 0 0 0 0 0 0 0 0 0 0 0 0 0 \n",
      "0 0 0 0 0 0 0 0 0 0 0 0 0 0 0 0 0 0 0 \n",
      "0 0 0 0 0 0 0 0 0 0 0 0 0 0 0 0 0 0 0 \n"
     ]
    }
   ],
   "source": [
    "a = [list(map(int, input().split())) for _ in range(19)]\n",
    "n = int(input())\n",
    "\n",
    "for _ in range(n):\n",
    "  x, y = map(int, input().split())\n",
    "  for j in range(19):\n",
    "    if j!=y-1:\n",
    "      if a[x-1][j] == 0: \n",
    "        a[x-1][j]=1\n",
    "      elif a[x-1][j] == 1: \n",
    "        a[x-1][j]=0\n",
    "\n",
    "  for i in range(19):\n",
    "    if i!=x-1:\n",
    "      if a[i][y-1] == 0: \n",
    "        a[i][y-1]=1\n",
    "      elif  a[i][y-1] == 1: \n",
    "        a[i][y-1]=0\n",
    "\n",
    "for i in range(19):\n",
    "  for j in range(19):\n",
    "    print(a[i][j], end=' ')\n",
    "  print()"
   ]
  }
 ],
 "metadata": {
  "interpreter": {
   "hash": "f78223e05a5dd203e81fcb8090d54a47bf64e993ffd636d4a07645dc089b3ac9"
  },
  "kernelspec": {
   "display_name": "Python 3.10.0 64-bit ('multicampus': conda)",
   "language": "python",
   "name": "python3"
  },
  "language_info": {
   "codemirror_mode": {
    "name": "ipython",
    "version": 3
   },
   "file_extension": ".py",
   "mimetype": "text/x-python",
   "name": "python",
   "nbconvert_exporter": "python",
   "pygments_lexer": "ipython3",
   "version": "3.9.7"
  },
  "orig_nbformat": 4
 },
 "nbformat": 4,
 "nbformat_minor": 2
}
