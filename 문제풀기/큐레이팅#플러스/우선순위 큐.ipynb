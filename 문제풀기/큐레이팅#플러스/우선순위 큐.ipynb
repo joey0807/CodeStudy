{
 "cells": [
  {
   "cell_type": "markdown",
   "metadata": {},
   "source": [
    "# 우선순위 큐(Priority Queue)\n",
    "\n",
    "- 우선순위 큐는 **우선순위가 가장 높은 데이터를 가장 먼저 삭제하는 자료구조**\n",
    "- 데이터를 **우선순위에 따라** 처리하고 싶을 때 사용\n",
    "- 우선순위 큐를 구현하는 방법\n",
    "  1. 단순히 **리스트를 이용하여 구현**\n",
    "  2. **힙(heap)을 이용하여 구현**\n",
    "  "
   ]
  },
  {
   "cell_type": "markdown",
   "metadata": {},
   "source": [
    "## 힙(Heap)의 특징\n",
    "\n",
    "- 힙은 완전 이진 트리 자료구조의 일종\n",
    "- 힙에서는 항상 **루트 노드(root node)를 제거**\n",
    "- 최소 힙(min heap)\n",
    "  - 루트 노드가 가장 작은 값을 가짐\n",
    "  - 따라서 값이 작은 데이터가 우선적으로 제거됨\n",
    "- 최대 힙(max heap)\n",
    "  - 루트 노드가 가장 큰 값을 가짐\n",
    "  - 따라서 값이 큰 데이터가 우선적으로 제거됨\n",
    "\n",
    "## 완전 이진 트리(Complete Binary Tree)\n",
    "\n",
    "- 루트(root)노드부터 시작하여 왼쪽 자식 노드, 오른쪽 자식 노드 순서대로 데이터가 차례대로 삽입되는 트리\n",
    "\n",
    "## 최소 힙 구성 함수 : Min-Heaplify()\n",
    "\n",
    "- (상향식)부모 노드로 거슬러 올라가며, 부모보다 자신의 값이 더 작은 경우에 위치를 교체함\n",
    "- 원소를 제거할 때는 가장 마지막 노드가 루트 노드의 위치에 오도록 함\n",
    "  - 이후에 루트 노드에서부터 하향식으로 (더 작은 자식 노드로) Heapify()를 진행함"
   ]
  },
  {
   "cell_type": "code",
   "execution_count": null,
   "metadata": {},
   "outputs": [],
   "source": [
    "import sys\n",
    "import heapq\n",
    "input = sys.stdin.readline\n",
    "\n",
    "def heapsort(iterable):\n",
    "    h = []\n",
    "    result = []\n",
    "    #모든 원소를 차례대로 힙에 삽입\n",
    "    for value in iterable:\n",
    "        heapq.heappush(h, value)\n",
    "    #힙에 삽입된 모든 원소를 차례대로 꺼내어 담기\n",
    "    for i in range(len(h)):\n",
    "        result.append(heapq.heappop(h))\n",
    "    return result\n",
    "\n",
    "n = int(input())\n",
    "arr = []\n",
    "\n",
    "for i in range(n):\n",
    "    arr.append(int(input()))\n",
    "\n",
    "res = heapsort(arr)\n",
    "\n",
    "for i in range(n):\n",
    "    print(res[i])\n"
   ]
  }
 ],
 "metadata": {
  "interpreter": {
   "hash": "ce8ad003cbacc730e5ae8e25e04f0b81855cad91beef114a29a8b1ddf1550b22"
  },
  "kernelspec": {
   "display_name": "Python 3.9.7 64-bit ('base': conda)",
   "language": "python",
   "name": "python3"
  },
  "language_info": {
   "codemirror_mode": {
    "name": "ipython",
    "version": 3
   },
   "file_extension": ".py",
   "mimetype": "text/x-python",
   "name": "python",
   "nbconvert_exporter": "python",
   "pygments_lexer": "ipython3",
   "version": "3.9.7"
  },
  "orig_nbformat": 4
 },
 "nbformat": 4,
 "nbformat_minor": 2
}
