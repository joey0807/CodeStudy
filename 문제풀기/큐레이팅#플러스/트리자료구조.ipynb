{
 "cells": [
  {
   "cell_type": "markdown",
   "metadata": {},
   "source": [
    "# 트리(Tree)\n",
    "\n",
    "- 트리는 가계도와 같은 **계층적인 구조**를 표현할 때 사용할 수 있는 자료구조\n",
    "- 트리 관련 용어\n",
    "  - 루트 노드(root node) : 부모가 없는 최상위 노드\n",
    "  - 단말 노드(leaf node) : 자식이 없는 노드\n",
    "  - 크기(size) : 트리에 포함된 모든 노드의 개수\n",
    "  - 깊이(depth) : 루트 노드부터의 거리\n",
    "  - 높이(height) : 깊이 중 최댓값\n",
    "  - 차수(degree) : 각 노드의 (자식 방향) 간선 개수\n",
    "- 기본적으로 트리의 크기가 N일 때, 전체 간선의 개수는 N-1개\n",
    "\n",
    "# 이진 탐색 트리(Binary Search Tree)\n",
    "\n",
    "- 이진 탐색이 동작할 수 있도록 고안된 효율적인 탐색이 가능한 자료구조의 일종\n",
    "- 이진 탐색 트리의 특징 : 왼쪽 자식 노드 < 부모 노드 < 오른쪽 자식 노드\n",
    "  - 부모 노드보다 왼쪽 자식 노드가 작다\n",
    "  - 부모 노드보다 오른쪽 자식 노드가 크다\n",
    "- 데이터를 조회하는 과정\n",
    "  1. 루트 노드부터 방문하여 탐색을 진행\n",
    "  2. 현재 노드와 값을 비교\n",
    "  3. 찾는 원소가 더 크다면 오른쪽 방문\n",
    "  4. 찾는 원소가 더 작자면 왼쪽 방문\n",
    "\n",
    "# 트리의 순회(Tree Traversal)\n",
    "\n",
    "- 트리 자료구조에 포함된 노드를 특정한 방법으로 한 번씩 방문하는 방법을 의미\n",
    "  - 트리의 정보를 시각적으로 확인할 수 있음\n",
    "\n",
    "- 대표적인 트리 순회 방법\n",
    "  - 전위 순회(pre-order traverse) : 루트를 먼저 방문\n",
    "  - 중위 순회(in-order traverse) : 왼쪽 자식을 방문한 뒤에 루트를 방문\n",
    "  - 후위 순회(post-order traverse) : 오른쪽 자식을 방문한 뒤에 루트를 방문"
   ]
  },
  {
   "cell_type": "code",
   "execution_count": 2,
   "metadata": {},
   "outputs": [
    {
     "name": "stdout",
     "output_type": "stream",
     "text": [
      "A B D E C F G \n",
      "D B E A F C G \n",
      "D E B F G C A \n"
     ]
    }
   ],
   "source": [
    "class Node:\n",
    "    def __init__(self, data, left_node, right_node):\n",
    "        self.data = data\n",
    "        self.left_node = left_node\n",
    "        self.right_node = right_node\n",
    "\n",
    "#전위 순회\n",
    "def pre_order(node):\n",
    "    print(node.data, end=' ')\n",
    "    if node.left_node != None:\n",
    "        pre_order(tree[node.left_node])\n",
    "    if node.right_node != None:\n",
    "        pre_order(tree[node.right_node])\n",
    "\n",
    "#중위 순회\n",
    "def in_order(node):\n",
    "    if node.left_node != None:\n",
    "        in_order(tree[node.left_node])\n",
    "    print(node.data, end=' ')\n",
    "    if node.right_node != None:\n",
    "        in_order(tree[node.right_node])\n",
    "\n",
    "#후위 순회\n",
    "def post_order(node):\n",
    "    if node.left_node != None:\n",
    "        post_order(tree[node.left_node])\n",
    "    if node.right_node != None:\n",
    "        post_order(tree[node.right_node])\n",
    "    print(node.data, end=' ')\n",
    "\n",
    "n = int(input())\n",
    "tree = {}\n",
    "\n",
    "for i in range(n):\n",
    "    data, left_node, right_node = input().split()\n",
    "    if left_node == 'None':\n",
    "        left_node = None\n",
    "    if right_node == 'None':\n",
    "        right_node = None\n",
    "    tree[data] = Node(data, left_node, right_node)\n",
    "\n",
    "pre_order(tree['A'])\n",
    "print()\n",
    "in_order(tree['A'])\n",
    "print()\n",
    "post_order(tree['A'])\n",
    "print()"
   ]
  }
 ],
 "metadata": {
  "interpreter": {
   "hash": "ce8ad003cbacc730e5ae8e25e04f0b81855cad91beef114a29a8b1ddf1550b22"
  },
  "kernelspec": {
   "display_name": "Python 3.9.7 64-bit ('base': conda)",
   "language": "python",
   "name": "python3"
  },
  "language_info": {
   "codemirror_mode": {
    "name": "ipython",
    "version": 3
   },
   "file_extension": ".py",
   "mimetype": "text/x-python",
   "name": "python",
   "nbconvert_exporter": "python",
   "pygments_lexer": "ipython3",
   "version": "3.9.7"
  },
  "orig_nbformat": 4
 },
 "nbformat": 4,
 "nbformat_minor": 2
}
