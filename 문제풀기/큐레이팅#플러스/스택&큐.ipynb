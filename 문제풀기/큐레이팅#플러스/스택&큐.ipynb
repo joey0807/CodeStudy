{
 "cells": [
  {
   "cell_type": "markdown",
   "metadata": {},
   "source": [
    "# 스택 자료구조\n",
    "  \n",
    "- 먼저 들어온 데이터가 나중에 나가는 형식(선입후출)의 자료구조\n",
    "- **입구와 출구가 동일한 형태**로 스택을 시각화"
   ]
  },
  {
   "cell_type": "code",
   "execution_count": 1,
   "metadata": {},
   "outputs": [
    {
     "name": "stdout",
     "output_type": "stream",
     "text": [
      "[1, 3, 2, 5]\n",
      "[5, 2, 3, 1]\n"
     ]
    }
   ],
   "source": [
    "#스택 동작 예시\n",
    "#삽입(5)-삽입(2)-삽입(3)-삽입(7)-삭제()-삽입(1)-삽입(4)-삭제()\n",
    "#파이썬은 리스트를 이용하면 됨 -> append()메소드와 pop()메소드 지원\n",
    "#append() : 가장 오른쪽의 원소를 삽입\n",
    "#pop() : 가장 오른쪽의 원소를 꺼냄\n",
    "stack = [] \n",
    "\n",
    "stack.append(5)\n",
    "stack.append(2)\n",
    "stack.append(3)\n",
    "stack.append(7)\n",
    "stack.pop()\n",
    "stack.append(1)\n",
    "stack.append(4)\n",
    "stack.pop()\n",
    "\n",
    "print(stack[::-1]) #최상단 원소부터 출력->리스트의 순서를 뒤집어서 출력\n",
    "print(stack) #최하단 원소부터 출력"
   ]
  },
  {
   "cell_type": "markdown",
   "metadata": {},
   "source": [
    "# 큐 자료구조\n",
    "\n",
    "- 먼저 들어온 데이터가 먼저 나가는 형식(선입선출)의 자료구조\n",
    "- 큐는 **입구와 출구가 모두 뚫려있는 터널과 같은 형태**로 시각화"
   ]
  },
  {
   "cell_type": "code",
   "execution_count": 2,
   "metadata": {},
   "outputs": [
    {
     "name": "stdout",
     "output_type": "stream",
     "text": [
      "deque([3, 7, 1, 4])\n",
      "deque([4, 1, 7, 3])\n"
     ]
    }
   ],
   "source": [
    "#삽입(5)-삽입(2)-삽입(3)-삽입(7)-삭제()-삽입(1)-삽입(4)-삭제()\n",
    "#deque라이브러리 사용\n",
    "#리스트는 비효율적일 수 있음\n",
    "#append() : 리스트의 append()와 동일\n",
    "#popleft() : 가장 왼쪽의 데이터를 꺼내는 함수\n",
    "from collections import deque\n",
    "\n",
    "queue = deque()\n",
    "\n",
    "queue.append(5)\n",
    "queue.append(2)\n",
    "queue.append(3)\n",
    "queue.append(7)\n",
    "queue.popleft()\n",
    "queue.append(1)\n",
    "queue.append(4)\n",
    "queue.popleft()\n",
    "\n",
    "print(queue) #먼저 들어온 순서대로 출력\n",
    "queue.reverse() #역순으로 바꾸기\n",
    "print(queue) #나중에 들어온 원소부터 출력"
   ]
  }
 ],
 "metadata": {
  "interpreter": {
   "hash": "ce8ad003cbacc730e5ae8e25e04f0b81855cad91beef114a29a8b1ddf1550b22"
  },
  "kernelspec": {
   "display_name": "Python 3.9.7 64-bit ('base': conda)",
   "language": "python",
   "name": "python3"
  },
  "language_info": {
   "codemirror_mode": {
    "name": "ipython",
    "version": 3
   },
   "file_extension": ".py",
   "mimetype": "text/x-python",
   "name": "python",
   "nbconvert_exporter": "python",
   "pygments_lexer": "ipython3",
   "version": "3.9.7"
  },
  "orig_nbformat": 4
 },
 "nbformat": 4,
 "nbformat_minor": 2
}
